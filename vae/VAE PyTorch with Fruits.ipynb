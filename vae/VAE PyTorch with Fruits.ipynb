{
  "nbformat": 4,
  "nbformat_minor": 0,
  "metadata": {
    "colab": {
      "name": "VAE PyTorch with Fruits.ipynb",
      "version": "0.3.2",
      "provenance": []
    },
    "kernelspec": {
      "name": "python3",
      "display_name": "Python 3"
    },
    "accelerator": "GPU"
  },
  "cells": [
    {
      "cell_type": "code",
      "metadata": {
        "id": "Uo_svK_vX9qm",
        "colab_type": "code",
        "colab": {
          "base_uri": "https://localhost:8080/",
          "height": 153
        },
        "outputId": "0e4005ce-cf32-4ec4-8842-b9f32c2b92cb"
      },
      "source": [
        "!git clone https://github.com/Horea94/Fruit-Images-Dataset.git"
      ],
      "execution_count": 4,
      "outputs": [
        {
          "output_type": "stream",
          "text": [
            "Cloning into 'Fruit-Images-Dataset'...\n",
            "remote: Enumerating objects: 2452, done.\u001b[K\n",
            "remote: Counting objects: 100% (2452/2452), done.\u001b[K\n",
            "remote: Compressing objects: 100% (2443/2443), done.\u001b[K\n",
            "remote: Total 370759 (delta 9), reused 2449 (delta 9), pack-reused 368307\u001b[K\n",
            "Receiving objects: 100% (370759/370759), 2.03 GiB | 41.98 MiB/s, done.\n",
            "Resolving deltas: 100% (1092/1092), done.\n",
            "Checking out files: 100% (75952/75952), done.\n"
          ],
          "name": "stdout"
        }
      ]
    },
    {
      "cell_type": "code",
      "metadata": {
        "id": "guj3V5IxZwEu",
        "colab_type": "code",
        "colab": {
          "base_uri": "https://localhost:8080/",
          "height": 34
        },
        "outputId": "40ac9327-3bd1-46f7-ac03-bb1df835997a"
      },
      "source": [
        "!ls Fruit-Images-Dataset"
      ],
      "execution_count": 5,
      "outputs": [
        {
          "output_type": "stream",
          "text": [
            "LICENSE  papers  readme.md  src  Test  test-multiple_fruits  Training\n"
          ],
          "name": "stdout"
        }
      ]
    },
    {
      "cell_type": "code",
      "metadata": {
        "id": "72saW3_dFQh8",
        "colab_type": "code",
        "colab": {}
      },
      "source": [
        "from __future__ import print_function\n",
        "import argparse\n",
        "import torch\n",
        "import torch.utils.data\n",
        "from torch import nn, optim\n",
        "from torch.nn import functional as F\n",
        "from torch.autograd import Variable\n",
        "import torchvision\n",
        "from torchvision import datasets, transforms\n",
        "from torchvision.utils import save_image, make_grid\n",
        "import numpy as np\n",
        "import matplotlib.pyplot as plt\n",
        "import math\n",
        "import os"
      ],
      "execution_count": 0,
      "outputs": []
    },
    {
      "cell_type": "code",
      "metadata": {
        "id": "96yOY_7QFQiC",
        "colab_type": "code",
        "colab": {
          "base_uri": "https://localhost:8080/",
          "height": 34
        },
        "outputId": "6a8504af-bb97-44a3-929e-0991b0745549"
      },
      "source": [
        "torch.manual_seed(42)\n",
        "device = torch.device(\"cuda\" if torch.cuda.is_available() else \"cpu\")\n",
        "print(device)"
      ],
      "execution_count": 47,
      "outputs": [
        {
          "output_type": "stream",
          "text": [
            "cuda\n"
          ],
          "name": "stdout"
        }
      ]
    },
    {
      "cell_type": "markdown",
      "metadata": {
        "id": "dbhRC9cOFQjB",
        "colab_type": "text"
      },
      "source": [
        "## Hyperparameters"
      ]
    },
    {
      "cell_type": "code",
      "metadata": {
        "id": "uz1alsF9FQjC",
        "colab_type": "code",
        "colab": {}
      },
      "source": [
        "batch_size = 128\n",
        "epochs = 10\n",
        "log_interval = 10\n",
        "x_dim = 100\n",
        "y_dim = 100\n",
        "nb_channels = 3\n",
        "embedding_dim = 2048\n",
        "base_dir = 'Fruit-Images-Dataset'"
      ],
      "execution_count": 0,
      "outputs": []
    },
    {
      "cell_type": "markdown",
      "metadata": {
        "id": "BHvJ_GlCFQjE",
        "colab_type": "text"
      },
      "source": [
        "## Load data"
      ]
    },
    {
      "cell_type": "code",
      "metadata": {
        "id": "pyJXITMkFQjL",
        "colab_type": "code",
        "colab": {}
      },
      "source": [
        "def load_dataset(data_path):\n",
        "    dataset = torchvision.datasets.ImageFolder(\n",
        "        root=data_path,\n",
        "        transform=transforms.Compose([torchvision.transforms.ToTensor()])\n",
        "    )\n",
        "    data_loader = torch.utils.data.DataLoader(\n",
        "        dataset,\n",
        "        batch_size=batch_size,\n",
        "        num_workers=0,\n",
        "        shuffle=True\n",
        "    )\n",
        "    return data_loader\n",
        "\n",
        "train_loader = load_dataset(f'{base_dir}/Training')\n",
        "test_loader = load_dataset(f'{base_dir}/Test')"
      ],
      "execution_count": 0,
      "outputs": []
    },
    {
      "cell_type": "markdown",
      "metadata": {
        "id": "OPbP0_C3FQjW",
        "colab_type": "text"
      },
      "source": [
        "## Example image"
      ]
    },
    {
      "cell_type": "code",
      "metadata": {
        "id": "yz10SKC4fRMS",
        "colab_type": "code",
        "colab": {}
      },
      "source": [
        "def plot_img(img):\n",
        "  plt.figure()\n",
        "  plt.imshow(img.numpy())\n",
        "  plt.show()"
      ],
      "execution_count": 0,
      "outputs": []
    },
    {
      "cell_type": "code",
      "metadata": {
        "id": "w-vD2cAMFQjX",
        "colab_type": "code",
        "colab": {
          "base_uri": "https://localhost:8080/",
          "height": 269
        },
        "outputId": "c660b8f8-d956-4c73-cd36-d760a9fef70f"
      },
      "source": [
        "img = next(iter(train_loader))[0][0]\n",
        "img = img.permute(1, 2, 0)\n",
        "img = img.view(img.shape[0], img.shape[1], nb_channels)\n",
        "plot_img(img)"
      ],
      "execution_count": 51,
      "outputs": [
        {
          "output_type": "display_data",
          "data": {
            "image/png": "[encoded data removed]",
            "text/plain": [
              "<Figure size 432x288 with 1 Axes>"
            ]
          },
          "metadata": {
            "tags": []
          }
        }
      ]
    },
    {
      "cell_type": "markdown",
      "metadata": {
        "id": "UU50RncKFQjg",
        "colab_type": "text"
      },
      "source": [
        "## Models"
      ]
    },
    {
      "cell_type": "code",
      "metadata": {
        "id": "nLSt3iZ_FQjg",
        "colab_type": "code",
        "colab": {}
      },
      "source": [
        "class VAE(nn.Module):\n",
        "    def __init__(self):\n",
        "        super(VAE, self).__init__()\n",
        "\n",
        "        self.fc1 = nn.Linear(x_dim*y_dim*nb_channels, embedding_dim)\n",
        "        self.fc21 = nn.Linear(embedding_dim, embedding_dim)\n",
        "        self.fc22 = nn.Linear(embedding_dim, embedding_dim)\n",
        "        self.fc3 = nn.Linear(embedding_dim, embedding_dim)\n",
        "        self.fc4 = nn.Linear(embedding_dim, x_dim*y_dim*nb_channels)\n",
        "\n",
        "    def encode(self, x):\n",
        "        h1 = F.relu(self.fc1(x))\n",
        "        return self.fc21(h1), self.fc22(h1)\n",
        "\n",
        "    def reparameterize(self, mu, logvar):\n",
        "        std = torch.exp(0.5*logvar)\n",
        "        eps = torch.randn_like(std)\n",
        "        return mu + eps*std\n",
        "\n",
        "    def decode(self, z):\n",
        "        h3 = F.relu(self.fc3(z))\n",
        "        return torch.sigmoid(self.fc4(h3))\n",
        "\n",
        "    def forward(self, x):\n",
        "        mu, logvar = self.encode(x.view(-1, x_dim*y_dim*nb_channels))\n",
        "        z = self.reparameterize(mu, logvar)\n",
        "        return self.decode(z), mu, logvar"
      ],
      "execution_count": 0,
      "outputs": []
    },
    {
      "cell_type": "code",
      "metadata": {
        "id": "_ldvRXrMFQjj",
        "colab_type": "code",
        "colab": {}
      },
      "source": [
        "\n",
        "class VAE_CNN(nn.Module):\n",
        "    def __init__(self):\n",
        "        super(VAE_CNN, self).__init__()\n",
        "\n",
        "        # Encoder\n",
        "        self.conv1 = nn.Conv2d(3, 16, kernel_size=3, stride=1, padding=1, bias=False)\n",
        "        self.bn1 = nn.BatchNorm2d(16)\n",
        "        self.conv2 = nn.Conv2d(16, 32, kernel_size=3, stride=2, padding=1, bias=False)\n",
        "        self.bn2 = nn.BatchNorm2d(32)\n",
        "        self.conv3 = nn.Conv2d(32, 64, kernel_size=3, stride=1, padding=1, bias=False)\n",
        "        self.bn3 = nn.BatchNorm2d(64)\n",
        "        self.conv31 = nn.Conv2d(64, 128, kernel_size=3, stride=1, padding=1, bias=False)\n",
        "        self.bn31 = nn.BatchNorm2d(128)\n",
        "        self.conv32 = nn.Conv2d(128, 32, kernel_size=3, stride=1, padding=1, bias=False)\n",
        "        self.bn32 = nn.BatchNorm2d(32)\n",
        "        self.conv4 = nn.Conv2d(32, 16, kernel_size=3, stride=2, padding=1, bias=False)\n",
        "        self.bn4 = nn.BatchNorm2d(16)\n",
        "\n",
        "        # Latent vectors mu and sigma\n",
        "        self.fc1 = nn.Linear(25 * 25 * 16, embedding_dim)\n",
        "        self.fc_bn1 = nn.BatchNorm1d(embedding_dim)\n",
        "        self.fc21 = nn.Linear(embedding_dim, embedding_dim)\n",
        "        self.fc22 = nn.Linear(embedding_dim, embedding_dim)\n",
        "\n",
        "        # Sampling vector\n",
        "        self.fc3 = nn.Linear(embedding_dim, embedding_dim)\n",
        "        self.fc_bn3 = nn.BatchNorm1d(embedding_dim)\n",
        "        self.fc4 = nn.Linear(embedding_dim, 25 * 25 * 16)\n",
        "        self.fc_bn4 = nn.BatchNorm1d(25 * 25 * 16)\n",
        "\n",
        "        # Decoder\n",
        "        self.conv5 = nn.ConvTranspose2d(16, 64, kernel_size=3, stride=2, padding=1, output_padding=1, bias=False)\n",
        "        self.bn5 = nn.BatchNorm2d(64)\n",
        "        self.conv6 = nn.ConvTranspose2d(64, 32, kernel_size=3, stride=1, padding=1, bias=False)\n",
        "        self.bn6 = nn.BatchNorm2d(32)\n",
        "        self.conv7 = nn.ConvTranspose2d(32, 16, kernel_size=3, stride=2, padding=1, output_padding=1, bias=False)\n",
        "        self.bn7 = nn.BatchNorm2d(16)\n",
        "        self.conv8 = nn.ConvTranspose2d(16, 3, kernel_size=3, stride=1, padding=1, bias=False)\n",
        "\n",
        "        self.relu = nn.ReLU()\n",
        "\n",
        "    def encode(self, x):\n",
        "        conv1 = self.relu(self.bn1(self.conv1(x)))\n",
        "        conv2 = self.relu(self.bn2(self.conv2(conv1)))\n",
        "        conv3 = self.relu(self.bn3(self.conv3(conv2)))\n",
        "        conv31 = self.relu(self.bn31(self.conv31(conv3)))\n",
        "        conv32 = self.relu(self.bn32(self.conv32(conv31)))\n",
        "        conv4 = self.relu(self.bn4(self.conv4(conv32))).view(-1, 25 * 25 * 16)\n",
        "\n",
        "        fc1 = self.relu(self.fc_bn1(self.fc1(conv4)))\n",
        "\n",
        "        r1 = self.fc21(fc1)\n",
        "        r2 = self.fc22(fc1)\n",
        "        \n",
        "        return r1, r2\n",
        "\n",
        "    def reparameterize(self, mu, logvar):\n",
        "        if self.training:\n",
        "            std = logvar.mul(0.5).exp_()\n",
        "            eps = Variable(std.data.new(std.size()).normal_())\n",
        "            return eps.mul(std).add_(mu)\n",
        "        else:\n",
        "            return mu\n",
        "\n",
        "    def decode(self, z):\n",
        "        fc3 = self.relu(self.fc_bn3(self.fc3(z)))\n",
        "        fc4 = self.relu(self.fc_bn4(self.fc4(fc3))).view(-1, 16, 25, 25)\n",
        "\n",
        "        conv5 = self.relu(self.bn5(self.conv5(fc4)))\n",
        "        conv6 = self.relu(self.bn6(self.conv6(conv5)))\n",
        "        conv7 = self.relu(self.bn7(self.conv7(conv6)))\n",
        "        return self.conv8(conv7).view(-1, 3, 100, 100)\n",
        "\n",
        "    def forward(self, x):\n",
        "        mu, logvar = self.encode(x)\n",
        "        z = self.reparameterize(mu, logvar)\n",
        "        return self.decode(z), mu, logvar"
      ],
      "execution_count": 0,
      "outputs": []
    },
    {
      "cell_type": "markdown",
      "metadata": {
        "id": "2trE36jYFQjp",
        "colab_type": "text"
      },
      "source": [
        "### Loss"
      ]
    },
    {
      "cell_type": "code",
      "metadata": {
        "id": "Mh8gIUAzFQjt",
        "colab_type": "code",
        "colab": {}
      },
      "source": [
        "# Reconstruction + KL divergence losses summed over all elements and batch\n",
        "def loss_function(recon_x, x, mu, logvar):\n",
        "    BCE = F.binary_cross_entropy(recon_x, x.view(-1, x_dim*y_dim*nb_channels), reduction='sum')\n",
        "\n",
        "    # see Appendix B from VAE paper:\n",
        "    # Kingma and Welling. Auto-Encoding Variational Bayes. ICLR, 2014\n",
        "    # https://arxiv.org/abs/1312.6114\n",
        "    # 0.5 * sum(1 + log(sigma^2) - mu^2 - sigma^2)\n",
        "    KLD = -0.5 * torch.sum(1 + logvar - mu.pow(2) - logvar.exp())\n",
        "\n",
        "    return BCE + KLD"
      ],
      "execution_count": 0,
      "outputs": []
    },
    {
      "cell_type": "code",
      "metadata": {
        "id": "UUJLfZPpFQj0",
        "colab_type": "code",
        "colab": {}
      },
      "source": [
        "class CustomLoss(nn.Module):\n",
        "    def __init__(self):\n",
        "        super(CustomLoss, self).__init__()\n",
        "        self.mse_loss = nn.MSELoss(reduction=\"sum\")\n",
        "        self.bce_loss = nn.BCELoss(reduction=\"sum\")\n",
        "\n",
        "    def forward(self, x_recon, x, mu, logvar):\n",
        "        loss_rec = self.mse_loss(x_recon, x)\n",
        "        loss_KLD = -0.5 * torch.sum(1 + logvar - mu.pow(2) - logvar.exp())\n",
        "\n",
        "        return loss_rec + loss_KLD"
      ],
      "execution_count": 0,
      "outputs": []
    },
    {
      "cell_type": "code",
      "metadata": {
        "id": "tQXrgTAHFQjl",
        "colab_type": "code",
        "colab": {}
      },
      "source": [
        "model = VAE_CNN().to(device)\n",
        "optimizer = optim.Adam(model.parameters(), lr=1e-3)\n",
        "loss_func = CustomLoss()"
      ],
      "execution_count": 0,
      "outputs": []
    },
    {
      "cell_type": "code",
      "metadata": {
        "id": "swVFSEVJFQj9",
        "colab_type": "code",
        "colab": {}
      },
      "source": [
        "def train(epoch):\n",
        "    model.train()\n",
        "    train_loss = 0\n",
        "    for batch_idx, (data, _) in enumerate(train_loader):\n",
        "        data = data.to(device)\n",
        "        optimizer.zero_grad()\n",
        "        recon_batch, mu, logvar = model(data)\n",
        "        loss = loss_func(recon_batch, data, mu, logvar)\n",
        "        loss.backward()\n",
        "        train_loss += loss.item()\n",
        "        optimizer.step()\n",
        "        if batch_idx % log_interval == 0:\n",
        "            print('Train Epoch: {} [{}/{} ({:.0f}%)]\\tLoss: {:.6f}'.format(\n",
        "                epoch, batch_idx * len(data), len(train_loader.dataset),\n",
        "                100. * batch_idx / len(train_loader),\n",
        "                loss.item() / len(data)))\n",
        "\n",
        "    print('====> Epoch: {} Average loss: {:.4f}'.format(\n",
        "          epoch, train_loss / len(train_loader.dataset)))"
      ],
      "execution_count": 0,
      "outputs": []
    },
    {
      "cell_type": "code",
      "metadata": {
        "id": "Qa7-AwvwFQj_",
        "colab_type": "code",
        "colab": {}
      },
      "source": [
        "import os\n",
        "def test(epoch):\n",
        "    model.eval()\n",
        "    test_loss = 0\n",
        "    with torch.no_grad():\n",
        "        for i, (data, _) in enumerate(test_loader):\n",
        "            data = data.to(device)\n",
        "            recon_batch, mu, logvar = model(data)\n",
        "            test_loss += loss_func(recon_batch, data, mu, logvar).item()\n",
        "            if i == 0:\n",
        "                n = min(data.size(0), 8)\n",
        "                comparison = torch.cat([data[:n],\n",
        "                                      recon_batch.view(batch_size, nb_channels, x_dim, y_dim)[:n]])\n",
        "                os.makedirs('results', exist_ok=True)\n",
        "                save_image(comparison.cpu(),\n",
        "                         'results/reconstruction_' + str(epoch) + '.png', nrow=n)\n",
        "    test_loss /= len(test_loader.dataset)\n",
        "    print('====> Test set loss: {:.4f}'.format(test_loss))\n",
        "    return test_loss"
      ],
      "execution_count": 0,
      "outputs": []
    },
    {
      "cell_type": "code",
      "metadata": {
        "id": "wXf1AfeIFQkE",
        "colab_type": "code",
        "colab": {
          "base_uri": "https://localhost:8080/",
          "height": 1000
        },
        "outputId": "e9b74b67-3da3-44c9-e390-190799acb0c1"
      },
      "source": [
        "if __name__ == \"__main__\":\n",
        "    all_losses = []\n",
        "    for epoch in range(1, epochs + 1):\n",
        "        train(epoch)\n",
        "        test_loss = test(epoch)\n",
        "        all_losses.append(test_loss)\n",
        "\n",
        "        plt.plot(all_losses)\n",
        "        plt.ylabel('Test loss')\n",
        "        plt.show()\n",
        "\n",
        "        with torch.no_grad():\n",
        "            sample = torch.randn(batch_size, embedding_dim).to(device)\n",
        "            sample = model.decode(sample).cpu()\n",
        "            save_image(sample.view(batch_size, nb_channels, x_dim, y_dim),\n",
        "                     'results/sample_' + str(epoch) + '.png')"
      ],
      "execution_count": 59,
      "outputs": [
        {
          "output_type": "stream",
          "text": [
            "Train Epoch: 1 [0/56781 (0%)]\tLoss: 23256.060547\n",
            "Train Epoch: 1 [1280/56781 (2%)]\tLoss: 8380.483398\n",
            "Train Epoch: 1 [2560/56781 (5%)]\tLoss: 3532.291016\n",
            "Train Epoch: 1 [3840/56781 (7%)]\tLoss: 1864.223633\n",
            "Train Epoch: 1 [5120/56781 (9%)]\tLoss: 1372.826172\n",
            "Train Epoch: 1 [6400/56781 (11%)]\tLoss: 1135.243896\n",
            "Train Epoch: 1 [7680/56781 (14%)]\tLoss: 995.673157\n",
            "Train Epoch: 1 [8960/56781 (16%)]\tLoss: 970.266785\n",
            "Train Epoch: 1 [10240/56781 (18%)]\tLoss: 815.780396\n",
            "Train Epoch: 1 [11520/56781 (20%)]\tLoss: 822.796631\n",
            "Train Epoch: 1 [12800/56781 (23%)]\tLoss: 807.576965\n",
            "Train Epoch: 1 [14080/56781 (25%)]\tLoss: 765.655457\n",
            "Train Epoch: 1 [15360/56781 (27%)]\tLoss: 677.379456\n",
            "Train Epoch: 1 [16640/56781 (29%)]\tLoss: 696.831116\n",
            "Train Epoch: 1 [17920/56781 (32%)]\tLoss: 652.030396\n",
            "Train Epoch: 1 [19200/56781 (34%)]\tLoss: 686.351685\n",
            "Train Epoch: 1 [20480/56781 (36%)]\tLoss: 659.767029\n",
            "Train Epoch: 1 [21760/56781 (38%)]\tLoss: 612.906616\n",
            "Train Epoch: 1 [23040/56781 (41%)]\tLoss: 590.353455\n",
            "Train Epoch: 1 [24320/56781 (43%)]\tLoss: 568.040344\n",
            "Train Epoch: 1 [25600/56781 (45%)]\tLoss: 582.038757\n",
            "Train Epoch: 1 [26880/56781 (47%)]\tLoss: 565.518799\n",
            "Train Epoch: 1 [28160/56781 (50%)]\tLoss: 554.451965\n",
            "Train Epoch: 1 [29440/56781 (52%)]\tLoss: 525.002930\n",
            "Train Epoch: 1 [30720/56781 (54%)]\tLoss: 570.201294\n",
            "Train Epoch: 1 [32000/56781 (56%)]\tLoss: 508.678345\n",
            "Train Epoch: 1 [33280/56781 (59%)]\tLoss: 533.281494\n",
            "Train Epoch: 1 [34560/56781 (61%)]\tLoss: 520.188843\n",
            "Train Epoch: 1 [35840/56781 (63%)]\tLoss: 567.731018\n",
            "Train Epoch: 1 [37120/56781 (65%)]\tLoss: 573.161438\n",
            "Train Epoch: 1 [38400/56781 (68%)]\tLoss: 510.731628\n",
            "Train Epoch: 1 [39680/56781 (70%)]\tLoss: 524.835938\n",
            "Train Epoch: 1 [40960/56781 (72%)]\tLoss: 525.011108\n",
            "Train Epoch: 1 [42240/56781 (74%)]\tLoss: 510.162140\n",
            "Train Epoch: 1 [43520/56781 (77%)]\tLoss: 468.082947\n",
            "Train Epoch: 1 [44800/56781 (79%)]\tLoss: 496.053345\n",
            "Train Epoch: 1 [46080/56781 (81%)]\tLoss: 516.410217\n",
            "Train Epoch: 1 [47360/56781 (83%)]\tLoss: 473.452271\n",
            "Train Epoch: 1 [48640/56781 (86%)]\tLoss: 461.966003\n",
            "Train Epoch: 1 [49920/56781 (88%)]\tLoss: 483.975250\n",
            "Train Epoch: 1 [51200/56781 (90%)]\tLoss: 494.362488\n",
            "Train Epoch: 1 [52480/56781 (92%)]\tLoss: 472.959839\n",
            "Train Epoch: 1 [53760/56781 (95%)]\tLoss: 476.565918\n",
            "Train Epoch: 1 [55040/56781 (97%)]\tLoss: 500.020599\n",
            "Train Epoch: 1 [56320/56781 (99%)]\tLoss: 496.230804\n",
            "====> Epoch: 1 Average loss: 1126.2457\n",
            "====> Test set loss: 420.6820\n"
          ],
          "name": "stdout"
        },
        {
          "output_type": "display_data",
          "data": {
            "image/png": "[encoded data removed]",
            "text/plain": [
              "<Figure size 432x288 with 1 Axes>"
            ]
          },
          "metadata": {
            "tags": []
          }
        },
        {
          "output_type": "stream",
          "text": [
            "Train Epoch: 2 [0/56781 (0%)]\tLoss: 442.625916\n",
            "Train Epoch: 2 [1280/56781 (2%)]\tLoss: 480.221191\n",
            "Train Epoch: 2 [2560/56781 (5%)]\tLoss: 485.908997\n",
            "Train Epoch: 2 [3840/56781 (7%)]\tLoss: 455.984436\n",
            "Train Epoch: 2 [5120/56781 (9%)]\tLoss: 472.475525\n",
            "Train Epoch: 2 [6400/56781 (11%)]\tLoss: 431.036407\n",
            "Train Epoch: 2 [7680/56781 (14%)]\tLoss: 437.912201\n",
            "Train Epoch: 2 [8960/56781 (16%)]\tLoss: 437.528839\n",
            "Train Epoch: 2 [10240/56781 (18%)]\tLoss: 435.802673\n",
            "Train Epoch: 2 [11520/56781 (20%)]\tLoss: 449.799744\n",
            "Train Epoch: 2 [12800/56781 (23%)]\tLoss: 430.786682\n",
            "Train Epoch: 2 [14080/56781 (25%)]\tLoss: 438.658569\n",
            "Train Epoch: 2 [15360/56781 (27%)]\tLoss: 425.861328\n",
            "Train Epoch: 2 [16640/56781 (29%)]\tLoss: 429.544159\n",
            "Train Epoch: 2 [17920/56781 (32%)]\tLoss: 445.477020\n",
            "Train Epoch: 2 [19200/56781 (34%)]\tLoss: 440.773254\n",
            "Train Epoch: 2 [20480/56781 (36%)]\tLoss: 432.772949\n",
            "Train Epoch: 2 [21760/56781 (38%)]\tLoss: 426.799652\n",
            "Train Epoch: 2 [23040/56781 (41%)]\tLoss: 409.723938\n",
            "Train Epoch: 2 [24320/56781 (43%)]\tLoss: 435.517181\n",
            "Train Epoch: 2 [25600/56781 (45%)]\tLoss: 425.598694\n",
            "Train Epoch: 2 [26880/56781 (47%)]\tLoss: 423.094696\n",
            "Train Epoch: 2 [28160/56781 (50%)]\tLoss: 405.153961\n",
            "Train Epoch: 2 [29440/56781 (52%)]\tLoss: 412.389465\n",
            "Train Epoch: 2 [30720/56781 (54%)]\tLoss: 430.304016\n",
            "Train Epoch: 2 [32000/56781 (56%)]\tLoss: 443.939850\n",
            "Train Epoch: 2 [33280/56781 (59%)]\tLoss: 411.176636\n",
            "Train Epoch: 2 [34560/56781 (61%)]\tLoss: 402.321075\n",
            "Train Epoch: 2 [35840/56781 (63%)]\tLoss: 391.288208\n",
            "Train Epoch: 2 [37120/56781 (65%)]\tLoss: 425.252197\n",
            "Train Epoch: 2 [38400/56781 (68%)]\tLoss: 406.952209\n",
            "Train Epoch: 2 [39680/56781 (70%)]\tLoss: 412.178131\n",
            "Train Epoch: 2 [40960/56781 (72%)]\tLoss: 415.785278\n",
            "Train Epoch: 2 [42240/56781 (74%)]\tLoss: 408.812653\n",
            "Train Epoch: 2 [43520/56781 (77%)]\tLoss: 388.079224\n",
            "Train Epoch: 2 [44800/56781 (79%)]\tLoss: 407.884918\n",
            "Train Epoch: 2 [46080/56781 (81%)]\tLoss: 371.801453\n",
            "Train Epoch: 2 [47360/56781 (83%)]\tLoss: 379.683411\n",
            "Train Epoch: 2 [48640/56781 (86%)]\tLoss: 370.364655\n",
            "Train Epoch: 2 [49920/56781 (88%)]\tLoss: 389.386780\n",
            "Train Epoch: 2 [51200/56781 (90%)]\tLoss: 374.224640\n",
            "Train Epoch: 2 [52480/56781 (92%)]\tLoss: 382.648010\n",
            "Train Epoch: 2 [53760/56781 (95%)]\tLoss: 388.995605\n",
            "Train Epoch: 2 [55040/56781 (97%)]\tLoss: 399.624023\n",
            "Train Epoch: 2 [56320/56781 (99%)]\tLoss: 373.340729\n",
            "====> Epoch: 2 Average loss: 421.8431\n",
            "====> Test set loss: 352.4219\n"
          ],
          "name": "stdout"
        },
        {
          "output_type": "display_data",
          "data": {
            "image/png": "[encoded data removed]",
            "text/plain": [
              "<Figure size 432x288 with 1 Axes>"
            ]
          },
          "metadata": {
            "tags": []
          }
        },
        {
          "output_type": "stream",
          "text": [
            "Train Epoch: 3 [0/56781 (0%)]\tLoss: 400.679810\n",
            "Train Epoch: 3 [1280/56781 (2%)]\tLoss: 421.796967\n",
            "Train Epoch: 3 [2560/56781 (5%)]\tLoss: 399.140320\n",
            "Train Epoch: 3 [3840/56781 (7%)]\tLoss: 378.577057\n",
            "Train Epoch: 3 [5120/56781 (9%)]\tLoss: 375.134491\n",
            "Train Epoch: 3 [6400/56781 (11%)]\tLoss: 380.592316\n",
            "Train Epoch: 3 [7680/56781 (14%)]\tLoss: 370.299255\n",
            "Train Epoch: 3 [8960/56781 (16%)]\tLoss: 382.495972\n",
            "Train Epoch: 3 [10240/56781 (18%)]\tLoss: 376.869415\n",
            "Train Epoch: 3 [11520/56781 (20%)]\tLoss: 368.748749\n",
            "Train Epoch: 3 [12800/56781 (23%)]\tLoss: 361.691620\n",
            "Train Epoch: 3 [14080/56781 (25%)]\tLoss: 357.329163\n",
            "Train Epoch: 3 [15360/56781 (27%)]\tLoss: 381.224976\n",
            "Train Epoch: 3 [16640/56781 (29%)]\tLoss: 397.125183\n",
            "Train Epoch: 3 [17920/56781 (32%)]\tLoss: 381.958710\n",
            "Train Epoch: 3 [19200/56781 (34%)]\tLoss: 356.157349\n",
            "Train Epoch: 3 [20480/56781 (36%)]\tLoss: 374.078339\n",
            "Train Epoch: 3 [21760/56781 (38%)]\tLoss: 386.340332\n",
            "Train Epoch: 3 [23040/56781 (41%)]\tLoss: 354.023376\n",
            "Train Epoch: 3 [24320/56781 (43%)]\tLoss: 369.835266\n",
            "Train Epoch: 3 [25600/56781 (45%)]\tLoss: 377.725037\n",
            "Train Epoch: 3 [26880/56781 (47%)]\tLoss: 377.142090\n",
            "Train Epoch: 3 [28160/56781 (50%)]\tLoss: 387.548706\n",
            "Train Epoch: 3 [29440/56781 (52%)]\tLoss: 386.848175\n",
            "Train Epoch: 3 [30720/56781 (54%)]\tLoss: 359.093628\n",
            "Train Epoch: 3 [32000/56781 (56%)]\tLoss: 377.587524\n",
            "Train Epoch: 3 [33280/56781 (59%)]\tLoss: 367.799347\n",
            "Train Epoch: 3 [34560/56781 (61%)]\tLoss: 363.555420\n",
            "Train Epoch: 3 [35840/56781 (63%)]\tLoss: 333.000488\n",
            "Train Epoch: 3 [37120/56781 (65%)]\tLoss: 367.349915\n",
            "Train Epoch: 3 [38400/56781 (68%)]\tLoss: 398.040955\n",
            "Train Epoch: 3 [39680/56781 (70%)]\tLoss: 376.474701\n",
            "Train Epoch: 3 [40960/56781 (72%)]\tLoss: 389.585510\n",
            "Train Epoch: 3 [42240/56781 (74%)]\tLoss: 355.182678\n",
            "Train Epoch: 3 [43520/56781 (77%)]\tLoss: 352.463440\n",
            "Train Epoch: 3 [44800/56781 (79%)]\tLoss: 376.514282\n",
            "Train Epoch: 3 [46080/56781 (81%)]\tLoss: 378.727905\n",
            "Train Epoch: 3 [47360/56781 (83%)]\tLoss: 377.291107\n",
            "Train Epoch: 3 [48640/56781 (86%)]\tLoss: 377.172424\n",
            "Train Epoch: 3 [49920/56781 (88%)]\tLoss: 360.085815\n",
            "Train Epoch: 3 [51200/56781 (90%)]\tLoss: 380.016907\n",
            "Train Epoch: 3 [52480/56781 (92%)]\tLoss: 355.821350\n",
            "Train Epoch: 3 [53760/56781 (95%)]\tLoss: 343.265991\n",
            "Train Epoch: 3 [55040/56781 (97%)]\tLoss: 386.106628\n",
            "Train Epoch: 3 [56320/56781 (99%)]\tLoss: 366.265656\n",
            "====> Epoch: 3 Average loss: 370.9390\n",
            "====> Test set loss: 323.7609\n"
          ],
          "name": "stdout"
        },
        {
          "output_type": "display_data",
          "data": {
            "image/png": "[encoded data removed]",
            "text/plain": [
              "<Figure size 432x288 with 1 Axes>"
            ]
          },
          "metadata": {
            "tags": []
          }
        },
        {
          "output_type": "stream",
          "text": [
            "Train Epoch: 4 [0/56781 (0%)]\tLoss: 331.759216\n",
            "Train Epoch: 4 [1280/56781 (2%)]\tLoss: 343.452026\n",
            "Train Epoch: 4 [2560/56781 (5%)]\tLoss: 355.867401\n",
            "Train Epoch: 4 [3840/56781 (7%)]\tLoss: 340.550598\n",
            "Train Epoch: 4 [5120/56781 (9%)]\tLoss: 345.829102\n",
            "Train Epoch: 4 [6400/56781 (11%)]\tLoss: 335.612000\n",
            "Train Epoch: 4 [7680/56781 (14%)]\tLoss: 335.578674\n",
            "Train Epoch: 4 [8960/56781 (16%)]\tLoss: 344.492767\n",
            "Train Epoch: 4 [10240/56781 (18%)]\tLoss: 361.440247\n",
            "Train Epoch: 4 [11520/56781 (20%)]\tLoss: 348.051300\n",
            "Train Epoch: 4 [12800/56781 (23%)]\tLoss: 351.258179\n",
            "Train Epoch: 4 [14080/56781 (25%)]\tLoss: 344.381104\n",
            "Train Epoch: 4 [15360/56781 (27%)]\tLoss: 354.507385\n",
            "Train Epoch: 4 [16640/56781 (29%)]\tLoss: 339.754089\n",
            "Train Epoch: 4 [17920/56781 (32%)]\tLoss: 334.269836\n",
            "Train Epoch: 4 [19200/56781 (34%)]\tLoss: 345.468384\n",
            "Train Epoch: 4 [20480/56781 (36%)]\tLoss: 355.694275\n",
            "Train Epoch: 4 [21760/56781 (38%)]\tLoss: 365.764282\n",
            "Train Epoch: 4 [23040/56781 (41%)]\tLoss: 342.887634\n",
            "Train Epoch: 4 [24320/56781 (43%)]\tLoss: 343.024414\n",
            "Train Epoch: 4 [25600/56781 (45%)]\tLoss: 364.414429\n",
            "Train Epoch: 4 [26880/56781 (47%)]\tLoss: 348.168396\n",
            "Train Epoch: 4 [28160/56781 (50%)]\tLoss: 360.570862\n",
            "Train Epoch: 4 [29440/56781 (52%)]\tLoss: 329.513611\n",
            "Train Epoch: 4 [30720/56781 (54%)]\tLoss: 358.284515\n",
            "Train Epoch: 4 [32000/56781 (56%)]\tLoss: 356.301697\n",
            "Train Epoch: 4 [33280/56781 (59%)]\tLoss: 367.775757\n",
            "Train Epoch: 4 [34560/56781 (61%)]\tLoss: 342.085022\n",
            "Train Epoch: 4 [35840/56781 (63%)]\tLoss: 343.714722\n",
            "Train Epoch: 4 [37120/56781 (65%)]\tLoss: 329.567200\n",
            "Train Epoch: 4 [38400/56781 (68%)]\tLoss: 346.509186\n",
            "Train Epoch: 4 [39680/56781 (70%)]\tLoss: 322.908447\n",
            "Train Epoch: 4 [40960/56781 (72%)]\tLoss: 334.635803\n",
            "Train Epoch: 4 [42240/56781 (74%)]\tLoss: 317.485321\n",
            "Train Epoch: 4 [43520/56781 (77%)]\tLoss: 319.950928\n",
            "Train Epoch: 4 [44800/56781 (79%)]\tLoss: 333.572510\n",
            "Train Epoch: 4 [46080/56781 (81%)]\tLoss: 337.583954\n",
            "Train Epoch: 4 [47360/56781 (83%)]\tLoss: 320.224121\n",
            "Train Epoch: 4 [48640/56781 (86%)]\tLoss: 323.201996\n",
            "Train Epoch: 4 [49920/56781 (88%)]\tLoss: 334.194519\n",
            "Train Epoch: 4 [51200/56781 (90%)]\tLoss: 331.562897\n",
            "Train Epoch: 4 [52480/56781 (92%)]\tLoss: 312.579651\n",
            "Train Epoch: 4 [53760/56781 (95%)]\tLoss: 319.435608\n",
            "Train Epoch: 4 [55040/56781 (97%)]\tLoss: 328.626404\n",
            "Train Epoch: 4 [56320/56781 (99%)]\tLoss: 340.793457\n",
            "====> Epoch: 4 Average loss: 344.7961\n",
            "====> Test set loss: 308.4933\n"
          ],
          "name": "stdout"
        },
        {
          "output_type": "display_data",
          "data": {
            "image/png": "[encoded data removed]",
            "text/plain": [
              "<Figure size 432x288 with 1 Axes>"
            ]
          },
          "metadata": {
            "tags": []
          }
        },
        {
          "output_type": "stream",
          "text": [
            "Train Epoch: 5 [0/56781 (0%)]\tLoss: 357.242737\n",
            "Train Epoch: 5 [1280/56781 (2%)]\tLoss: 337.467468\n",
            "Train Epoch: 5 [2560/56781 (5%)]\tLoss: 325.703400\n",
            "Train Epoch: 5 [3840/56781 (7%)]\tLoss: 340.781006\n",
            "Train Epoch: 5 [5120/56781 (9%)]\tLoss: 325.560028\n",
            "Train Epoch: 5 [6400/56781 (11%)]\tLoss: 337.348083\n",
            "Train Epoch: 5 [7680/56781 (14%)]\tLoss: 325.791412\n",
            "Train Epoch: 5 [8960/56781 (16%)]\tLoss: 331.052185\n",
            "Train Epoch: 5 [10240/56781 (18%)]\tLoss: 314.654144\n",
            "Train Epoch: 5 [11520/56781 (20%)]\tLoss: 330.569061\n",
            "Train Epoch: 5 [12800/56781 (23%)]\tLoss: 345.875549\n",
            "Train Epoch: 5 [14080/56781 (25%)]\tLoss: 325.627197\n",
            "Train Epoch: 5 [15360/56781 (27%)]\tLoss: 312.186646\n",
            "Train Epoch: 5 [16640/56781 (29%)]\tLoss: 322.183655\n",
            "Train Epoch: 5 [17920/56781 (32%)]\tLoss: 329.326599\n",
            "Train Epoch: 5 [19200/56781 (34%)]\tLoss: 328.272247\n",
            "Train Epoch: 5 [20480/56781 (36%)]\tLoss: 320.207733\n",
            "Train Epoch: 5 [21760/56781 (38%)]\tLoss: 329.269348\n",
            "Train Epoch: 5 [23040/56781 (41%)]\tLoss: 325.169312\n",
            "Train Epoch: 5 [24320/56781 (43%)]\tLoss: 349.472748\n",
            "Train Epoch: 5 [25600/56781 (45%)]\tLoss: 331.871094\n",
            "Train Epoch: 5 [26880/56781 (47%)]\tLoss: 309.800354\n",
            "Train Epoch: 5 [28160/56781 (50%)]\tLoss: 323.121948\n",
            "Train Epoch: 5 [29440/56781 (52%)]\tLoss: 319.033539\n",
            "Train Epoch: 5 [30720/56781 (54%)]\tLoss: 323.183533\n",
            "Train Epoch: 5 [32000/56781 (56%)]\tLoss: 307.534790\n",
            "Train Epoch: 5 [33280/56781 (59%)]\tLoss: 322.989990\n",
            "Train Epoch: 5 [34560/56781 (61%)]\tLoss: 336.680389\n",
            "Train Epoch: 5 [35840/56781 (63%)]\tLoss: 324.327515\n",
            "Train Epoch: 5 [37120/56781 (65%)]\tLoss: 312.290985\n",
            "Train Epoch: 5 [38400/56781 (68%)]\tLoss: 323.209137\n",
            "Train Epoch: 5 [39680/56781 (70%)]\tLoss: 327.583893\n",
            "Train Epoch: 5 [40960/56781 (72%)]\tLoss: 336.489624\n",
            "Train Epoch: 5 [42240/56781 (74%)]\tLoss: 333.833740\n",
            "Train Epoch: 5 [43520/56781 (77%)]\tLoss: 323.828369\n",
            "Train Epoch: 5 [44800/56781 (79%)]\tLoss: 318.852631\n",
            "Train Epoch: 5 [46080/56781 (81%)]\tLoss: 331.550415\n",
            "Train Epoch: 5 [47360/56781 (83%)]\tLoss: 298.632202\n",
            "Train Epoch: 5 [48640/56781 (86%)]\tLoss: 312.925110\n",
            "Train Epoch: 5 [49920/56781 (88%)]\tLoss: 306.654388\n",
            "Train Epoch: 5 [51200/56781 (90%)]\tLoss: 316.911041\n",
            "Train Epoch: 5 [52480/56781 (92%)]\tLoss: 312.102631\n",
            "Train Epoch: 5 [53760/56781 (95%)]\tLoss: 292.981781\n",
            "Train Epoch: 5 [55040/56781 (97%)]\tLoss: 311.303345\n",
            "Train Epoch: 5 [56320/56781 (99%)]\tLoss: 307.400635\n",
            "====> Epoch: 5 Average loss: 324.5689\n",
            "====> Test set loss: 298.4504\n"
          ],
          "name": "stdout"
        },
        {
          "output_type": "display_data",
          "data": {
            "image/png": "[encoded data removed]",
            "text/plain": [
              "<Figure size 432x288 with 1 Axes>"
            ]
          },
          "metadata": {
            "tags": []
          }
        },
        {
          "output_type": "stream",
          "text": [
            "Train Epoch: 6 [0/56781 (0%)]\tLoss: 355.989532\n",
            "Train Epoch: 6 [1280/56781 (2%)]\tLoss: 322.250763\n",
            "Train Epoch: 6 [2560/56781 (5%)]\tLoss: 301.836792\n",
            "Train Epoch: 6 [3840/56781 (7%)]\tLoss: 317.787048\n",
            "Train Epoch: 6 [5120/56781 (9%)]\tLoss: 297.615662\n",
            "Train Epoch: 6 [6400/56781 (11%)]\tLoss: 326.646332\n",
            "Train Epoch: 6 [7680/56781 (14%)]\tLoss: 312.506256\n",
            "Train Epoch: 6 [8960/56781 (16%)]\tLoss: 301.315216\n",
            "Train Epoch: 6 [10240/56781 (18%)]\tLoss: 331.606873\n",
            "Train Epoch: 6 [11520/56781 (20%)]\tLoss: 308.706238\n",
            "Train Epoch: 6 [12800/56781 (23%)]\tLoss: 307.480591\n",
            "Train Epoch: 6 [14080/56781 (25%)]\tLoss: 309.266571\n",
            "Train Epoch: 6 [15360/56781 (27%)]\tLoss: 326.695038\n",
            "Train Epoch: 6 [16640/56781 (29%)]\tLoss: 305.557617\n",
            "Train Epoch: 6 [17920/56781 (32%)]\tLoss: 322.302124\n",
            "Train Epoch: 6 [19200/56781 (34%)]\tLoss: 324.147644\n",
            "Train Epoch: 6 [20480/56781 (36%)]\tLoss: 291.374481\n",
            "Train Epoch: 6 [21760/56781 (38%)]\tLoss: 318.231506\n",
            "Train Epoch: 6 [23040/56781 (41%)]\tLoss: 310.786133\n",
            "Train Epoch: 6 [24320/56781 (43%)]\tLoss: 301.999908\n",
            "Train Epoch: 6 [25600/56781 (45%)]\tLoss: 340.351349\n",
            "Train Epoch: 6 [26880/56781 (47%)]\tLoss: 303.070923\n",
            "Train Epoch: 6 [28160/56781 (50%)]\tLoss: 310.230194\n",
            "Train Epoch: 6 [29440/56781 (52%)]\tLoss: 312.361511\n",
            "Train Epoch: 6 [30720/56781 (54%)]\tLoss: 333.019379\n",
            "Train Epoch: 6 [32000/56781 (56%)]\tLoss: 329.602295\n",
            "Train Epoch: 6 [33280/56781 (59%)]\tLoss: 320.487427\n",
            "Train Epoch: 6 [34560/56781 (61%)]\tLoss: 306.488861\n",
            "Train Epoch: 6 [35840/56781 (63%)]\tLoss: 318.537445\n",
            "Train Epoch: 6 [37120/56781 (65%)]\tLoss: 301.036438\n",
            "Train Epoch: 6 [38400/56781 (68%)]\tLoss: 317.809814\n",
            "Train Epoch: 6 [39680/56781 (70%)]\tLoss: 315.429688\n",
            "Train Epoch: 6 [40960/56781 (72%)]\tLoss: 306.271057\n",
            "Train Epoch: 6 [42240/56781 (74%)]\tLoss: 302.689331\n",
            "Train Epoch: 6 [43520/56781 (77%)]\tLoss: 304.924896\n",
            "Train Epoch: 6 [44800/56781 (79%)]\tLoss: 327.763855\n",
            "Train Epoch: 6 [46080/56781 (81%)]\tLoss: 303.306732\n",
            "Train Epoch: 6 [47360/56781 (83%)]\tLoss: 307.183228\n",
            "Train Epoch: 6 [48640/56781 (86%)]\tLoss: 286.667786\n",
            "Train Epoch: 6 [49920/56781 (88%)]\tLoss: 303.958923\n",
            "Train Epoch: 6 [51200/56781 (90%)]\tLoss: 307.124695\n",
            "Train Epoch: 6 [52480/56781 (92%)]\tLoss: 304.713013\n",
            "Train Epoch: 6 [53760/56781 (95%)]\tLoss: 306.678070\n",
            "Train Epoch: 6 [55040/56781 (97%)]\tLoss: 303.734680\n",
            "Train Epoch: 6 [56320/56781 (99%)]\tLoss: 307.001038\n",
            "====> Epoch: 6 Average loss: 311.7641\n",
            "====> Test set loss: 295.5597\n"
          ],
          "name": "stdout"
        },
        {
          "output_type": "display_data",
          "data": {
            "image/png": "[encoded data removed]",
            "text/plain": [
              "<Figure size 432x288 with 1 Axes>"
            ]
          },
          "metadata": {
            "tags": []
          }
        },
        {
          "output_type": "stream",
          "text": [
            "Train Epoch: 7 [0/56781 (0%)]\tLoss: 287.874939\n",
            "Train Epoch: 7 [1280/56781 (2%)]\tLoss: 307.431152\n",
            "Train Epoch: 7 [2560/56781 (5%)]\tLoss: 304.182495\n",
            "Train Epoch: 7 [3840/56781 (7%)]\tLoss: 297.952881\n",
            "Train Epoch: 7 [5120/56781 (9%)]\tLoss: 292.027191\n",
            "Train Epoch: 7 [6400/56781 (11%)]\tLoss: 297.729065\n",
            "Train Epoch: 7 [7680/56781 (14%)]\tLoss: 312.978973\n",
            "Train Epoch: 7 [8960/56781 (16%)]\tLoss: 311.207031\n",
            "Train Epoch: 7 [10240/56781 (18%)]\tLoss: 299.485474\n",
            "Train Epoch: 7 [11520/56781 (20%)]\tLoss: 305.457153\n",
            "Train Epoch: 7 [12800/56781 (23%)]\tLoss: 284.890259\n",
            "Train Epoch: 7 [14080/56781 (25%)]\tLoss: 299.403320\n",
            "Train Epoch: 7 [15360/56781 (27%)]\tLoss: 299.703979\n",
            "Train Epoch: 7 [16640/56781 (29%)]\tLoss: 302.440613\n",
            "Train Epoch: 7 [17920/56781 (32%)]\tLoss: 310.904297\n",
            "Train Epoch: 7 [19200/56781 (34%)]\tLoss: 297.064026\n",
            "Train Epoch: 7 [20480/56781 (36%)]\tLoss: 304.133911\n",
            "Train Epoch: 7 [21760/56781 (38%)]\tLoss: 283.570740\n",
            "Train Epoch: 7 [23040/56781 (41%)]\tLoss: 320.578217\n",
            "Train Epoch: 7 [24320/56781 (43%)]\tLoss: 296.829468\n",
            "Train Epoch: 7 [25600/56781 (45%)]\tLoss: 313.738525\n",
            "Train Epoch: 7 [26880/56781 (47%)]\tLoss: 291.841187\n",
            "Train Epoch: 7 [28160/56781 (50%)]\tLoss: 292.566620\n",
            "Train Epoch: 7 [29440/56781 (52%)]\tLoss: 295.987793\n",
            "Train Epoch: 7 [30720/56781 (54%)]\tLoss: 302.606323\n",
            "Train Epoch: 7 [32000/56781 (56%)]\tLoss: 315.659180\n",
            "Train Epoch: 7 [33280/56781 (59%)]\tLoss: 295.859344\n",
            "Train Epoch: 7 [34560/56781 (61%)]\tLoss: 286.084900\n",
            "Train Epoch: 7 [35840/56781 (63%)]\tLoss: 301.157166\n",
            "Train Epoch: 7 [37120/56781 (65%)]\tLoss: 296.435638\n",
            "Train Epoch: 7 [38400/56781 (68%)]\tLoss: 286.161652\n",
            "Train Epoch: 7 [39680/56781 (70%)]\tLoss: 302.295776\n",
            "Train Epoch: 7 [40960/56781 (72%)]\tLoss: 296.668091\n",
            "Train Epoch: 7 [42240/56781 (74%)]\tLoss: 284.570923\n",
            "Train Epoch: 7 [43520/56781 (77%)]\tLoss: 290.144562\n",
            "Train Epoch: 7 [44800/56781 (79%)]\tLoss: 292.835358\n",
            "Train Epoch: 7 [46080/56781 (81%)]\tLoss: 299.956360\n",
            "Train Epoch: 7 [47360/56781 (83%)]\tLoss: 304.510742\n",
            "Train Epoch: 7 [48640/56781 (86%)]\tLoss: 278.132874\n",
            "Train Epoch: 7 [49920/56781 (88%)]\tLoss: 302.470886\n",
            "Train Epoch: 7 [51200/56781 (90%)]\tLoss: 297.034973\n",
            "Train Epoch: 7 [52480/56781 (92%)]\tLoss: 312.136963\n",
            "Train Epoch: 7 [53760/56781 (95%)]\tLoss: 315.340698\n",
            "Train Epoch: 7 [55040/56781 (97%)]\tLoss: 278.150696\n",
            "Train Epoch: 7 [56320/56781 (99%)]\tLoss: 281.046844\n",
            "====> Epoch: 7 Average loss: 298.1986\n",
            "====> Test set loss: 284.8785\n"
          ],
          "name": "stdout"
        },
        {
          "output_type": "display_data",
          "data": {
            "image/png": "[encoded data removed]",
            "text/plain": [
              "<Figure size 432x288 with 1 Axes>"
            ]
          },
          "metadata": {
            "tags": []
          }
        },
        {
          "output_type": "stream",
          "text": [
            "Train Epoch: 8 [0/56781 (0%)]\tLoss: 300.103577\n",
            "Train Epoch: 8 [1280/56781 (2%)]\tLoss: 272.924469\n",
            "Train Epoch: 8 [2560/56781 (5%)]\tLoss: 289.054321\n",
            "Train Epoch: 8 [3840/56781 (7%)]\tLoss: 294.637848\n",
            "Train Epoch: 8 [5120/56781 (9%)]\tLoss: 289.330963\n",
            "Train Epoch: 8 [6400/56781 (11%)]\tLoss: 295.078705\n",
            "Train Epoch: 8 [7680/56781 (14%)]\tLoss: 297.212219\n",
            "Train Epoch: 8 [8960/56781 (16%)]\tLoss: 288.465210\n",
            "Train Epoch: 8 [10240/56781 (18%)]\tLoss: 282.341980\n",
            "Train Epoch: 8 [11520/56781 (20%)]\tLoss: 285.293030\n",
            "Train Epoch: 8 [12800/56781 (23%)]\tLoss: 284.734924\n",
            "Train Epoch: 8 [14080/56781 (25%)]\tLoss: 279.725464\n",
            "Train Epoch: 8 [15360/56781 (27%)]\tLoss: 279.336090\n",
            "Train Epoch: 8 [16640/56781 (29%)]\tLoss: 300.314819\n",
            "Train Epoch: 8 [17920/56781 (32%)]\tLoss: 295.885803\n",
            "Train Epoch: 8 [19200/56781 (34%)]\tLoss: 304.090027\n",
            "Train Epoch: 8 [20480/56781 (36%)]\tLoss: 296.690735\n",
            "Train Epoch: 8 [21760/56781 (38%)]\tLoss: 281.904602\n",
            "Train Epoch: 8 [23040/56781 (41%)]\tLoss: 283.167908\n",
            "Train Epoch: 8 [24320/56781 (43%)]\tLoss: 281.992676\n",
            "Train Epoch: 8 [25600/56781 (45%)]\tLoss: 289.423004\n",
            "Train Epoch: 8 [26880/56781 (47%)]\tLoss: 301.986328\n",
            "Train Epoch: 8 [28160/56781 (50%)]\tLoss: 281.330414\n",
            "Train Epoch: 8 [29440/56781 (52%)]\tLoss: 291.734253\n",
            "Train Epoch: 8 [30720/56781 (54%)]\tLoss: 286.249420\n",
            "Train Epoch: 8 [32000/56781 (56%)]\tLoss: 299.258759\n",
            "Train Epoch: 8 [33280/56781 (59%)]\tLoss: 285.560699\n",
            "Train Epoch: 8 [34560/56781 (61%)]\tLoss: 284.104248\n",
            "Train Epoch: 8 [35840/56781 (63%)]\tLoss: 290.875214\n",
            "Train Epoch: 8 [37120/56781 (65%)]\tLoss: 288.386810\n",
            "Train Epoch: 8 [38400/56781 (68%)]\tLoss: 293.387695\n",
            "Train Epoch: 8 [39680/56781 (70%)]\tLoss: 268.559448\n",
            "Train Epoch: 8 [40960/56781 (72%)]\tLoss: 300.834900\n",
            "Train Epoch: 8 [42240/56781 (74%)]\tLoss: 285.251312\n",
            "Train Epoch: 8 [43520/56781 (77%)]\tLoss: 308.746490\n",
            "Train Epoch: 8 [44800/56781 (79%)]\tLoss: 275.152985\n",
            "Train Epoch: 8 [46080/56781 (81%)]\tLoss: 304.552185\n",
            "Train Epoch: 8 [47360/56781 (83%)]\tLoss: 270.368958\n",
            "Train Epoch: 8 [48640/56781 (86%)]\tLoss: 283.289856\n",
            "Train Epoch: 8 [49920/56781 (88%)]\tLoss: 265.153076\n",
            "Train Epoch: 8 [51200/56781 (90%)]\tLoss: 279.800201\n",
            "Train Epoch: 8 [52480/56781 (92%)]\tLoss: 271.110657\n",
            "Train Epoch: 8 [53760/56781 (95%)]\tLoss: 297.778442\n",
            "Train Epoch: 8 [55040/56781 (97%)]\tLoss: 282.198303\n",
            "Train Epoch: 8 [56320/56781 (99%)]\tLoss: 282.011932\n",
            "====> Epoch: 8 Average loss: 287.6881\n",
            "====> Test set loss: 285.5920\n"
          ],
          "name": "stdout"
        },
        {
          "output_type": "display_data",
          "data": {
            "image/png": "[encoded data removed]",
            "text/plain": [
              "<Figure size 432x288 with 1 Axes>"
            ]
          },
          "metadata": {
            "tags": []
          }
        },
        {
          "output_type": "stream",
          "text": [
            "Train Epoch: 9 [0/56781 (0%)]\tLoss: 282.876892\n",
            "Train Epoch: 9 [1280/56781 (2%)]\tLoss: 280.507690\n",
            "Train Epoch: 9 [2560/56781 (5%)]\tLoss: 270.921356\n",
            "Train Epoch: 9 [3840/56781 (7%)]\tLoss: 307.338013\n",
            "Train Epoch: 9 [5120/56781 (9%)]\tLoss: 300.149048\n",
            "Train Epoch: 9 [6400/56781 (11%)]\tLoss: 286.664673\n",
            "Train Epoch: 9 [7680/56781 (14%)]\tLoss: 277.620667\n",
            "Train Epoch: 9 [8960/56781 (16%)]\tLoss: 272.216278\n",
            "Train Epoch: 9 [10240/56781 (18%)]\tLoss: 274.865631\n",
            "Train Epoch: 9 [11520/56781 (20%)]\tLoss: 278.650177\n",
            "Train Epoch: 9 [12800/56781 (23%)]\tLoss: 283.514160\n",
            "Train Epoch: 9 [14080/56781 (25%)]\tLoss: 271.618530\n",
            "Train Epoch: 9 [15360/56781 (27%)]\tLoss: 272.614502\n",
            "Train Epoch: 9 [16640/56781 (29%)]\tLoss: 290.710144\n",
            "Train Epoch: 9 [17920/56781 (32%)]\tLoss: 265.193176\n",
            "Train Epoch: 9 [19200/56781 (34%)]\tLoss: 291.089874\n",
            "Train Epoch: 9 [20480/56781 (36%)]\tLoss: 280.787720\n",
            "Train Epoch: 9 [21760/56781 (38%)]\tLoss: 261.012665\n",
            "Train Epoch: 9 [23040/56781 (41%)]\tLoss: 293.599060\n",
            "Train Epoch: 9 [24320/56781 (43%)]\tLoss: 266.293396\n",
            "Train Epoch: 9 [25600/56781 (45%)]\tLoss: 271.149628\n",
            "Train Epoch: 9 [26880/56781 (47%)]\tLoss: 277.913452\n",
            "Train Epoch: 9 [28160/56781 (50%)]\tLoss: 280.496704\n",
            "Train Epoch: 9 [29440/56781 (52%)]\tLoss: 265.341522\n",
            "Train Epoch: 9 [30720/56781 (54%)]\tLoss: 270.692108\n",
            "Train Epoch: 9 [32000/56781 (56%)]\tLoss: 304.931976\n",
            "Train Epoch: 9 [33280/56781 (59%)]\tLoss: 276.922302\n",
            "Train Epoch: 9 [34560/56781 (61%)]\tLoss: 279.369690\n",
            "Train Epoch: 9 [35840/56781 (63%)]\tLoss: 317.936127\n",
            "Train Epoch: 9 [37120/56781 (65%)]\tLoss: 278.053284\n",
            "Train Epoch: 9 [38400/56781 (68%)]\tLoss: 270.011536\n",
            "Train Epoch: 9 [39680/56781 (70%)]\tLoss: 271.451904\n",
            "Train Epoch: 9 [40960/56781 (72%)]\tLoss: 284.930115\n",
            "Train Epoch: 9 [42240/56781 (74%)]\tLoss: 280.460754\n",
            "Train Epoch: 9 [43520/56781 (77%)]\tLoss: 265.932404\n",
            "Train Epoch: 9 [44800/56781 (79%)]\tLoss: 263.410492\n",
            "Train Epoch: 9 [46080/56781 (81%)]\tLoss: 254.507339\n",
            "Train Epoch: 9 [47360/56781 (83%)]\tLoss: 268.666199\n",
            "Train Epoch: 9 [48640/56781 (86%)]\tLoss: 269.275116\n",
            "Train Epoch: 9 [49920/56781 (88%)]\tLoss: 280.919403\n",
            "Train Epoch: 9 [51200/56781 (90%)]\tLoss: 285.441010\n",
            "Train Epoch: 9 [52480/56781 (92%)]\tLoss: 271.164307\n",
            "Train Epoch: 9 [53760/56781 (95%)]\tLoss: 278.335968\n",
            "Train Epoch: 9 [55040/56781 (97%)]\tLoss: 265.835754\n",
            "Train Epoch: 9 [56320/56781 (99%)]\tLoss: 284.245667\n",
            "====> Epoch: 9 Average loss: 276.5416\n",
            "====> Test set loss: 281.3455\n"
          ],
          "name": "stdout"
        },
        {
          "output_type": "display_data",
          "data": {
            "image/png": "[encoded data removed]",
            "text/plain": [
              "<Figure size 432x288 with 1 Axes>"
            ]
          },
          "metadata": {
            "tags": []
          }
        },
        {
          "output_type": "stream",
          "text": [
            "Train Epoch: 10 [0/56781 (0%)]\tLoss: 280.091309\n",
            "Train Epoch: 10 [1280/56781 (2%)]\tLoss: 278.075500\n",
            "Train Epoch: 10 [2560/56781 (5%)]\tLoss: 275.845428\n",
            "Train Epoch: 10 [3840/56781 (7%)]\tLoss: 264.497711\n",
            "Train Epoch: 10 [5120/56781 (9%)]\tLoss: 269.402802\n",
            "Train Epoch: 10 [6400/56781 (11%)]\tLoss: 311.527649\n",
            "Train Epoch: 10 [7680/56781 (14%)]\tLoss: 271.610870\n",
            "Train Epoch: 10 [8960/56781 (16%)]\tLoss: 265.755737\n",
            "Train Epoch: 10 [10240/56781 (18%)]\tLoss: 265.612122\n",
            "Train Epoch: 10 [11520/56781 (20%)]\tLoss: 270.407471\n",
            "Train Epoch: 10 [12800/56781 (23%)]\tLoss: 263.832581\n",
            "Train Epoch: 10 [14080/56781 (25%)]\tLoss: 261.538635\n",
            "Train Epoch: 10 [15360/56781 (27%)]\tLoss: 282.090698\n",
            "Train Epoch: 10 [16640/56781 (29%)]\tLoss: 279.889343\n",
            "Train Epoch: 10 [17920/56781 (32%)]\tLoss: 278.340759\n",
            "Train Epoch: 10 [19200/56781 (34%)]\tLoss: 276.165894\n",
            "Train Epoch: 10 [20480/56781 (36%)]\tLoss: 264.863251\n",
            "Train Epoch: 10 [21760/56781 (38%)]\tLoss: 288.241486\n",
            "Train Epoch: 10 [23040/56781 (41%)]\tLoss: 257.474182\n",
            "Train Epoch: 10 [24320/56781 (43%)]\tLoss: 254.274353\n",
            "Train Epoch: 10 [25600/56781 (45%)]\tLoss: 272.198547\n",
            "Train Epoch: 10 [26880/56781 (47%)]\tLoss: 259.475586\n",
            "Train Epoch: 10 [28160/56781 (50%)]\tLoss: 265.010895\n",
            "Train Epoch: 10 [29440/56781 (52%)]\tLoss: 264.941589\n",
            "Train Epoch: 10 [30720/56781 (54%)]\tLoss: 262.005493\n",
            "Train Epoch: 10 [32000/56781 (56%)]\tLoss: 266.593079\n",
            "Train Epoch: 10 [33280/56781 (59%)]\tLoss: 258.534607\n",
            "Train Epoch: 10 [34560/56781 (61%)]\tLoss: 255.484772\n",
            "Train Epoch: 10 [35840/56781 (63%)]\tLoss: 302.463806\n",
            "Train Epoch: 10 [37120/56781 (65%)]\tLoss: 268.132507\n",
            "Train Epoch: 10 [38400/56781 (68%)]\tLoss: 284.205505\n",
            "Train Epoch: 10 [39680/56781 (70%)]\tLoss: 269.690826\n",
            "Train Epoch: 10 [40960/56781 (72%)]\tLoss: 269.847504\n",
            "Train Epoch: 10 [42240/56781 (74%)]\tLoss: 262.688171\n",
            "Train Epoch: 10 [43520/56781 (77%)]\tLoss: 257.532837\n",
            "Train Epoch: 10 [44800/56781 (79%)]\tLoss: 249.848343\n",
            "Train Epoch: 10 [46080/56781 (81%)]\tLoss: 273.471436\n",
            "Train Epoch: 10 [47360/56781 (83%)]\tLoss: 258.943848\n",
            "Train Epoch: 10 [48640/56781 (86%)]\tLoss: 291.439240\n",
            "Train Epoch: 10 [49920/56781 (88%)]\tLoss: 247.130463\n",
            "Train Epoch: 10 [51200/56781 (90%)]\tLoss: 259.691162\n",
            "Train Epoch: 10 [52480/56781 (92%)]\tLoss: 280.097900\n",
            "Train Epoch: 10 [53760/56781 (95%)]\tLoss: 258.683105\n",
            "Train Epoch: 10 [55040/56781 (97%)]\tLoss: 275.001099\n",
            "Train Epoch: 10 [56320/56781 (99%)]\tLoss: 295.809570\n",
            "====> Epoch: 10 Average loss: 269.6240\n",
            "====> Test set loss: 276.5914\n"
          ],
          "name": "stdout"
        },
        {
          "output_type": "display_data",
          "data": {
            "image/png": "[encoded data removed]",
            "text/plain": [
              "<Figure size 432x288 with 1 Axes>"
            ]
          },
          "metadata": {
            "tags": []
          }
        }
      ]
    },
    {
      "cell_type": "code",
      "metadata": {
        "id": "DUIC3rDmFQkH",
        "colab_type": "code",
        "colab": {
          "base_uri": "https://localhost:8080/",
          "height": 102
        },
        "outputId": "45e9ad3d-7d04-48d8-95f8-b87813ade92a"
      },
      "source": [
        "!ls results/"
      ],
      "execution_count": 60,
      "outputs": [
        {
          "output_type": "stream",
          "text": [
            "reconstruction_10.png  reconstruction_5.png  sample_10.png  sample_5.png\n",
            "reconstruction_1.png   reconstruction_6.png  sample_1.png   sample_6.png\n",
            "reconstruction_2.png   reconstruction_7.png  sample_2.png   sample_7.png\n",
            "reconstruction_3.png   reconstruction_8.png  sample_3.png   sample_8.png\n",
            "reconstruction_4.png   reconstruction_9.png  sample_4.png   sample_9.png\n"
          ],
          "name": "stdout"
        }
      ]
    },
    {
      "cell_type": "code",
      "metadata": {
        "id": "z-_L-ij_fJJ5",
        "colab_type": "code",
        "colab": {}
      },
      "source": [
        "from IPython.display import Image\n",
        "Image(\"results/sample_10.png\")"
      ],
      "execution_count": 0,
      "outputs": []
    },
    {
      "cell_type": "code",
      "metadata": {
        "id": "is07gNcJk6P1",
        "colab_type": "code",
        "colab": {}
      },
      "source": [
        "from IPython.display import Image\n",
        "with torch.no_grad():\n",
        "    sample = torch.randn(batch_size, embedding_dim).to(device)\n",
        "    sample = model.decode(sample).cpu()\n",
        "    save_image(sample.view(batch_size, nb_channels, x_dim, y_dim),\n",
        "             'test_sample.png')\n",
        "Image(\"test_sample.png\")"
      ],
      "execution_count": 0,
      "outputs": []
    },
    {
      "cell_type": "code",
      "metadata": {
        "id": "LupK4iQ0mGmD",
        "colab_type": "code",
        "colab": {}
      },
      "source": [
        ""
      ],
      "execution_count": 0,
      "outputs": []
    }
  ]
}