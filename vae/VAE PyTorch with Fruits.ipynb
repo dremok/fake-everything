{
 "cells": [
  {
   "cell_type": "code",
   "execution_count": 151,
   "metadata": {},
   "outputs": [],
   "source": [
    "from __future__ import print_function\n",
    "import argparse\n",
    "import torch\n",
    "import torch.utils.data\n",
    "from torch import nn, optim\n",
    "from torch.nn import functional as F\n",
    "from torch.autograd import Variable\n",
    "import torchvision\n",
    "from torchvision import datasets, transforms\n",
    "from torchvision.utils import save_image\n",
    "import numpy as np\n",
    "import matplotlib.pyplot as plt\n",
    "import math"
   ]
  },
  {
   "cell_type": "code",
   "execution_count": 152,
   "metadata": {},
   "outputs": [],
   "source": [
    "torch.manual_seed(42)\n",
    "device = torch.device(\"cuda\" if torch.cuda.is_available() else \"cpu\")"
   ]
  },
  {
   "cell_type": "markdown",
   "metadata": {},
   "source": [
    "## Hyperparameters"
   ]
  },
  {
   "cell_type": "code",
   "execution_count": 153,
   "metadata": {},
   "outputs": [],
   "source": [
    "batch_size = 128\n",
    "epochs = 100\n",
    "log_interval = 10\n",
    "x_dim = 100\n",
    "y_dim = 100\n",
    "nb_channels = 3\n",
    "embedding_dim = 2048"
   ]
  },
  {
   "cell_type": "markdown",
   "metadata": {},
   "source": [
    "## Load data"
   ]
  },
  {
   "cell_type": "code",
   "execution_count": 154,
   "metadata": {},
   "outputs": [],
   "source": [
    "def load_dataset(data_path):\n",
    "    dataset = torchvision.datasets.ImageFolder(\n",
    "        root=data_path,\n",
    "        transform=transforms.Compose([torchvision.transforms.ToTensor()])\n",
    "    )\n",
    "    data_loader = torch.utils.data.DataLoader(\n",
    "        dataset,\n",
    "        batch_size=batch_size,\n",
    "        num_workers=0,\n",
    "        shuffle=True\n",
    "    )\n",
    "    return data_loader\n",
    "\n",
    "train_loader = load_dataset('../data/fruits-360/Training')\n",
    "test_loader = load_dataset('../data/fruits-360/Test')"
   ]
  },
  {
   "cell_type": "markdown",
   "metadata": {},
   "source": [
    "## Example image"
   ]
  },
  {
   "cell_type": "code",
   "execution_count": 155,
   "metadata": {},
   "outputs": [
    {
     "data": {
      "image/png": "[encoded data removed]",
      "text/plain": [
       "<Figure size 432x288 with 1 Axes>"
      ]
     },
     "metadata": {
      "needs_background": "light"
     },
     "output_type": "display_data"
    }
   ],
   "source": [
    "img = next(iter(train_loader))[0][0]\n",
    "img = img.permute(1, 2, 0)\n",
    "img = img.view(img.shape[0], img.shape[1], nb_channels)\n",
    "img.shape\n",
    "plt.figure()\n",
    "plt.imshow(img.numpy())\n",
    "plt.show()"
   ]
  },
  {
   "cell_type": "markdown",
   "metadata": {},
   "source": [
    "## Models"
   ]
  },
  {
   "cell_type": "code",
   "execution_count": 156,
   "metadata": {},
   "outputs": [],
   "source": [
    "class VAE(nn.Module):\n",
    "    def __init__(self):\n",
    "        super(VAE, self).__init__()\n",
    "\n",
    "        self.fc1 = nn.Linear(x_dim*y_dim*nb_channels, 400)\n",
    "        self.fc21 = nn.Linear(400, embedding_dim)\n",
    "        self.fc22 = nn.Linear(400, embedding_dim)\n",
    "        self.fc3 = nn.Linear(embedding_dim, 400)\n",
    "        self.fc4 = nn.Linear(400, x_dim*y_dim*nb_channels)\n",
    "\n",
    "    def encode(self, x):\n",
    "        h1 = F.relu(self.fc1(x))\n",
    "        return self.fc21(h1), self.fc22(h1)\n",
    "\n",
    "    def reparameterize(self, mu, logvar):\n",
    "        std = torch.exp(0.5*logvar)\n",
    "        eps = torch.randn_like(std)\n",
    "        return mu + eps*std\n",
    "\n",
    "    def decode(self, z):\n",
    "        h3 = F.relu(self.fc3(z))\n",
    "        return torch.sigmoid(self.fc4(h3))\n",
    "\n",
    "    def forward(self, x):\n",
    "        mu, logvar = self.encode(x.view(-1, x_dim*y_dim*nb_channels))\n",
    "        z = self.reparameterize(mu, logvar)\n",
    "        return self.decode(z), mu, logvar"
   ]
  },
  {
   "cell_type": "code",
   "execution_count": 157,
   "metadata": {},
   "outputs": [],
   "source": [
    "\n",
    "class VAE_CNN(nn.Module):\n",
    "    def __init__(self):\n",
    "        super(VAE_CNN, self).__init__()\n",
    "\n",
    "        # Encoder\n",
    "        self.conv1 = nn.Conv2d(3, 16, kernel_size=3, stride=1, padding=1, bias=False)\n",
    "        self.bn1 = nn.BatchNorm2d(16)\n",
    "        self.conv2 = nn.Conv2d(16, 32, kernel_size=3, stride=2, padding=1, bias=False)\n",
    "        self.bn2 = nn.BatchNorm2d(32)\n",
    "        self.conv3 = nn.Conv2d(32, 64, kernel_size=3, stride=1, padding=1, bias=False)\n",
    "        self.bn3 = nn.BatchNorm2d(64)\n",
    "        self.conv4 = nn.Conv2d(64, 16, kernel_size=3, stride=2, padding=1, bias=False)\n",
    "        self.bn4 = nn.BatchNorm2d(16)\n",
    "\n",
    "        # Latent vectors mu and sigma\n",
    "        self.fc1 = nn.Linear(25 * 25 * 16, embedding_dim)\n",
    "        self.fc_bn1 = nn.BatchNorm1d(embedding_dim)\n",
    "        self.fc21 = nn.Linear(embedding_dim, embedding_dim)\n",
    "        self.fc22 = nn.Linear(embedding_dim, embedding_dim)\n",
    "\n",
    "        # Sampling vector\n",
    "        self.fc3 = nn.Linear(embedding_dim, embedding_dim)\n",
    "        self.fc_bn3 = nn.BatchNorm1d(embedding_dim)\n",
    "        self.fc4 = nn.Linear(embedding_dim, 25 * 25 * 16)\n",
    "        self.fc_bn4 = nn.BatchNorm1d(25 * 25 * 16)\n",
    "\n",
    "        # Decoder\n",
    "        self.conv5 = nn.ConvTranspose2d(16, 64, kernel_size=3, stride=2, padding=1, output_padding=1, bias=False)\n",
    "        self.bn5 = nn.BatchNorm2d(64)\n",
    "        self.conv6 = nn.ConvTranspose2d(64, 32, kernel_size=3, stride=1, padding=1, bias=False)\n",
    "        self.bn6 = nn.BatchNorm2d(32)\n",
    "        self.conv7 = nn.ConvTranspose2d(32, 16, kernel_size=3, stride=2, padding=1, output_padding=1, bias=False)\n",
    "        self.bn7 = nn.BatchNorm2d(16)\n",
    "        self.conv8 = nn.ConvTranspose2d(16, 3, kernel_size=3, stride=1, padding=1, bias=False)\n",
    "\n",
    "        self.relu = nn.ReLU()\n",
    "\n",
    "    def encode(self, x):\n",
    "        conv1 = self.relu(self.bn1(self.conv1(x)))\n",
    "        conv2 = self.relu(self.bn2(self.conv2(conv1)))\n",
    "        conv3 = self.relu(self.bn3(self.conv3(conv2)))\n",
    "        conv4 = self.relu(self.bn4(self.conv4(conv3))).view(-1, 25 * 25 * 16)\n",
    "\n",
    "        fc1 = self.relu(self.fc_bn1(self.fc1(conv4)))\n",
    "\n",
    "        r1 = self.fc21(fc1)\n",
    "        r2 = self.fc22(fc1)\n",
    "        \n",
    "        return r1, r2\n",
    "\n",
    "    def reparameterize(self, mu, logvar):\n",
    "        if self.training:\n",
    "            std = logvar.mul(0.5).exp_()\n",
    "            eps = Variable(std.data.new(std.size()).normal_())\n",
    "            return eps.mul(std).add_(mu)\n",
    "        else:\n",
    "            return mu\n",
    "\n",
    "    def decode(self, z):\n",
    "        fc3 = self.relu(self.fc_bn3(self.fc3(z)))\n",
    "        fc4 = self.relu(self.fc_bn4(self.fc4(fc3))).view(-1, 16, 25, 25)\n",
    "\n",
    "        conv5 = self.relu(self.bn5(self.conv5(fc4)))\n",
    "        conv6 = self.relu(self.bn6(self.conv6(conv5)))\n",
    "        conv7 = self.relu(self.bn7(self.conv7(conv6)))\n",
    "        return self.conv8(conv7).view(-1, 3, 100, 100)\n",
    "\n",
    "    def forward(self, x):\n",
    "        mu, logvar = self.encode(x)\n",
    "        z = self.reparameterize(mu, logvar)\n",
    "        return self.decode(z), mu, logvar"
   ]
  },
  {
   "cell_type": "code",
   "execution_count": 158,
   "metadata": {},
   "outputs": [],
   "source": [
    "model = VAE_CNN().to(device)\n",
    "optimizer = optim.Adam(model.parameters(), lr=1e-3)"
   ]
  },
  {
   "cell_type": "markdown",
   "metadata": {},
   "source": [
    "## Loss"
   ]
  },
  {
   "cell_type": "code",
   "execution_count": 159,
   "metadata": {},
   "outputs": [],
   "source": [
    "# Reconstruction + KL divergence losses summed over all elements and batch\n",
    "def loss_function(recon_x, x, mu, logvar):\n",
    "    BCE = F.binary_cross_entropy(recon_x, x.view(-1, x_dim*y_dim*nb_channels), reduction='sum')\n",
    "\n",
    "    # see Appendix B from VAE paper:\n",
    "    # Kingma and Welling. Auto-Encoding Variational Bayes. ICLR, 2014\n",
    "    # https://arxiv.org/abs/1312.6114\n",
    "    # 0.5 * sum(1 + log(sigma^2) - mu^2 - sigma^2)\n",
    "    KLD = -0.5 * torch.sum(1 + logvar - mu.pow(2) - logvar.exp())\n",
    "\n",
    "    return BCE + KLD"
   ]
  },
  {
   "cell_type": "code",
   "execution_count": 160,
   "metadata": {},
   "outputs": [],
   "source": [
    "class CustomLoss(nn.Module):\n",
    "    def __init__(self):\n",
    "        super(CustomLoss, self).__init__()\n",
    "        self.mse_loss = nn.MSELoss(reduction=\"sum\")\n",
    "\n",
    "    def forward(self, x_recon, x, mu, logvar):\n",
    "        loss_MSE = self.mse_loss(x_recon, x)\n",
    "        loss_KLD = -0.5 * torch.sum(1 + logvar - mu.pow(2) - logvar.exp())\n",
    "\n",
    "        return loss_MSE + loss_KLD"
   ]
  },
  {
   "cell_type": "code",
   "execution_count": 161,
   "metadata": {},
   "outputs": [],
   "source": [
    "# Set loss function used by train and test here\n",
    "loss_func = CustomLoss()"
   ]
  },
  {
   "cell_type": "markdown",
   "metadata": {},
   "source": [
    "## Train"
   ]
  },
  {
   "cell_type": "code",
   "execution_count": 148,
   "metadata": {},
   "outputs": [],
   "source": [
    "def train(epoch):\n",
    "    model.train()\n",
    "    train_loss = 0\n",
    "    for batch_idx, (data, _) in enumerate(train_loader):\n",
    "        data = data.to(device)\n",
    "        optimizer.zero_grad()\n",
    "        recon_batch, mu, logvar = model(data)\n",
    "        loss = loss_func(recon_batch, data, mu, logvar)\n",
    "        loss.backward()\n",
    "        train_loss += loss.item()\n",
    "        optimizer.step()\n",
    "        if batch_idx % log_interval == 0:\n",
    "            print('Train Epoch: {} [{}/{} ({:.0f}%)]\\tLoss: {:.6f}'.format(\n",
    "                epoch, batch_idx * len(data), len(train_loader.dataset),\n",
    "                100. * batch_idx / len(train_loader),\n",
    "                loss.item() / len(data)))\n",
    "\n",
    "    print('====> Epoch: {} Average loss: {:.4f}'.format(\n",
    "          epoch, train_loss / len(train_loader.dataset)))"
   ]
  },
  {
   "cell_type": "markdown",
   "metadata": {},
   "source": [
    "## Test"
   ]
  },
  {
   "cell_type": "code",
   "execution_count": 162,
   "metadata": {},
   "outputs": [],
   "source": [
    "import os\n",
    "def test(epoch):\n",
    "    model.eval()\n",
    "    test_loss = 0\n",
    "    with torch.no_grad():\n",
    "        for i, (data, _) in enumerate(test_loader):\n",
    "            data = data.to(device)\n",
    "            recon_batch, mu, logvar = model(data)\n",
    "            test_loss += loss_func(recon_batch, data, mu, logvar).item()\n",
    "            if i == 0:\n",
    "                n = min(data.size(0), 8)\n",
    "                comparison = torch.cat([data[:n],\n",
    "                                      recon_batch.view(batch_size, nb_channels, x_dim, y_dim)[:n]])\n",
    "                os.makedirs('results', exist_ok=True)\n",
    "                save_image(comparison.cpu(),\n",
    "                         'results/reconstruction_' + str(epoch) + '.png', nrow=n)\n",
    "    test_loss /= len(test_loader.dataset)\n",
    "    print('====> Test set loss: {:.4f}'.format(test_loss))"
   ]
  },
  {
   "cell_type": "markdown",
   "metadata": {},
   "source": [
    "## Main"
   ]
  },
  {
   "cell_type": "code",
   "execution_count": null,
   "metadata": {},
   "outputs": [
    {
     "name": "stdout",
     "output_type": "stream",
     "text": [
      "Train Epoch: 1 [0/55413 (0%)]\tLoss: 19799.554688\n",
      "Train Epoch: 1 [1280/55413 (2%)]\tLoss: 6643.884766\n",
      "Train Epoch: 1 [2560/55413 (5%)]\tLoss: 3185.146973\n",
      "Train Epoch: 1 [3840/55413 (7%)]\tLoss: 1905.060547\n",
      "Train Epoch: 1 [5120/55413 (9%)]\tLoss: 1483.894409\n",
      "Train Epoch: 1 [6400/55413 (12%)]\tLoss: 1245.349731\n",
      "Train Epoch: 1 [7680/55413 (14%)]\tLoss: 1063.821289\n",
      "Train Epoch: 1 [8960/55413 (16%)]\tLoss: 984.652710\n",
      "Train Epoch: 1 [10240/55413 (18%)]\tLoss: 973.836609\n",
      "Train Epoch: 1 [11520/55413 (21%)]\tLoss: 905.559448\n",
      "Train Epoch: 1 [12800/55413 (23%)]\tLoss: 845.483765\n",
      "Train Epoch: 1 [14080/55413 (25%)]\tLoss: 790.904175\n",
      "Train Epoch: 1 [15360/55413 (28%)]\tLoss: 713.933960\n",
      "Train Epoch: 1 [16640/55413 (30%)]\tLoss: 774.807495\n",
      "Train Epoch: 1 [17920/55413 (32%)]\tLoss: 668.162964\n",
      "Train Epoch: 1 [19200/55413 (35%)]\tLoss: 657.718262\n",
      "Train Epoch: 1 [20480/55413 (37%)]\tLoss: 624.251648\n",
      "Train Epoch: 1 [21760/55413 (39%)]\tLoss: 681.890381\n",
      "Train Epoch: 1 [23040/55413 (42%)]\tLoss: 572.272827\n",
      "Train Epoch: 1 [24320/55413 (44%)]\tLoss: 608.936401\n",
      "Train Epoch: 1 [25600/55413 (46%)]\tLoss: 564.036011\n",
      "Train Epoch: 1 [26880/55413 (48%)]\tLoss: 596.294861\n",
      "Train Epoch: 1 [28160/55413 (51%)]\tLoss: 562.684570\n",
      "Train Epoch: 1 [29440/55413 (53%)]\tLoss: 552.194275\n",
      "Train Epoch: 1 [30720/55413 (55%)]\tLoss: 614.406433\n",
      "Train Epoch: 1 [32000/55413 (58%)]\tLoss: 545.556458\n",
      "Train Epoch: 1 [33280/55413 (60%)]\tLoss: 562.553833\n",
      "Train Epoch: 1 [34560/55413 (62%)]\tLoss: 560.761841\n",
      "Train Epoch: 1 [35840/55413 (65%)]\tLoss: 524.756042\n",
      "Train Epoch: 1 [37120/55413 (67%)]\tLoss: 556.783752\n",
      "Train Epoch: 1 [38400/55413 (69%)]\tLoss: 504.691650\n",
      "Train Epoch: 1 [39680/55413 (72%)]\tLoss: 493.290955\n",
      "Train Epoch: 1 [40960/55413 (74%)]\tLoss: 583.252563\n",
      "Train Epoch: 1 [42240/55413 (76%)]\tLoss: 568.803772\n",
      "Train Epoch: 1 [43520/55413 (79%)]\tLoss: 552.808167\n",
      "Train Epoch: 1 [44800/55413 (81%)]\tLoss: 476.204803\n",
      "Train Epoch: 1 [46080/55413 (83%)]\tLoss: 491.237793\n",
      "Train Epoch: 1 [47360/55413 (85%)]\tLoss: 497.408020\n",
      "Train Epoch: 1 [48640/55413 (88%)]\tLoss: 505.209229\n",
      "Train Epoch: 1 [49920/55413 (90%)]\tLoss: 493.490723\n",
      "Train Epoch: 1 [51200/55413 (92%)]\tLoss: 501.780060\n",
      "Train Epoch: 1 [52480/55413 (95%)]\tLoss: 468.768860\n",
      "Train Epoch: 1 [53760/55413 (97%)]\tLoss: 456.406372\n",
      "Train Epoch: 1 [55040/55413 (99%)]\tLoss: 476.929749\n",
      "====> Epoch: 1 Average loss: 1073.1479\n",
      "====> Test set loss: 444.6995\n",
      "Train Epoch: 2 [0/55413 (0%)]\tLoss: 465.888367\n",
      "Train Epoch: 2 [1280/55413 (2%)]\tLoss: 459.500427\n",
      "Train Epoch: 2 [2560/55413 (5%)]\tLoss: 481.679596\n",
      "Train Epoch: 2 [3840/55413 (7%)]\tLoss: 434.903381\n",
      "Train Epoch: 2 [5120/55413 (9%)]\tLoss: 488.385864\n",
      "Train Epoch: 2 [6400/55413 (12%)]\tLoss: 457.699951\n",
      "Train Epoch: 2 [7680/55413 (14%)]\tLoss: 471.799500\n",
      "Train Epoch: 2 [8960/55413 (16%)]\tLoss: 444.909943\n",
      "Train Epoch: 2 [10240/55413 (18%)]\tLoss: 439.520966\n",
      "Train Epoch: 2 [11520/55413 (21%)]\tLoss: 476.845795\n",
      "Train Epoch: 2 [12800/55413 (23%)]\tLoss: 473.866760\n",
      "Train Epoch: 2 [14080/55413 (25%)]\tLoss: 436.234436\n",
      "Train Epoch: 2 [15360/55413 (28%)]\tLoss: 451.468170\n",
      "Train Epoch: 2 [16640/55413 (30%)]\tLoss: 445.665710\n",
      "Train Epoch: 2 [17920/55413 (32%)]\tLoss: 457.297363\n",
      "Train Epoch: 2 [19200/55413 (35%)]\tLoss: 457.700562\n",
      "Train Epoch: 2 [20480/55413 (37%)]\tLoss: 466.910919\n",
      "Train Epoch: 2 [21760/55413 (39%)]\tLoss: 433.856567\n",
      "Train Epoch: 2 [23040/55413 (42%)]\tLoss: 427.043335\n",
      "Train Epoch: 2 [24320/55413 (44%)]\tLoss: 441.952545\n",
      "Train Epoch: 2 [25600/55413 (46%)]\tLoss: 445.723999\n",
      "Train Epoch: 2 [26880/55413 (48%)]\tLoss: 407.646240\n",
      "Train Epoch: 2 [28160/55413 (51%)]\tLoss: 423.829346\n",
      "Train Epoch: 2 [29440/55413 (53%)]\tLoss: 432.460785\n",
      "Train Epoch: 2 [30720/55413 (55%)]\tLoss: 427.945251\n",
      "Train Epoch: 2 [32000/55413 (58%)]\tLoss: 438.615662\n",
      "Train Epoch: 2 [33280/55413 (60%)]\tLoss: 425.176514\n",
      "Train Epoch: 2 [34560/55413 (62%)]\tLoss: 428.121704\n",
      "Train Epoch: 2 [35840/55413 (65%)]\tLoss: 411.700989\n",
      "Train Epoch: 2 [37120/55413 (67%)]\tLoss: 449.126068\n",
      "Train Epoch: 2 [38400/55413 (69%)]\tLoss: 408.349396\n",
      "Train Epoch: 2 [39680/55413 (72%)]\tLoss: 412.404297\n",
      "Train Epoch: 2 [40960/55413 (74%)]\tLoss: 420.776398\n",
      "Train Epoch: 2 [42240/55413 (76%)]\tLoss: 415.162292\n",
      "Train Epoch: 2 [43520/55413 (79%)]\tLoss: 425.368500\n",
      "Train Epoch: 2 [44800/55413 (81%)]\tLoss: 403.326080\n",
      "Train Epoch: 2 [46080/55413 (83%)]\tLoss: 376.961731\n",
      "Train Epoch: 2 [47360/55413 (85%)]\tLoss: 391.370850\n",
      "Train Epoch: 2 [48640/55413 (88%)]\tLoss: 397.456238\n",
      "Train Epoch: 2 [49920/55413 (90%)]\tLoss: 414.526733\n",
      "Train Epoch: 2 [51200/55413 (92%)]\tLoss: 406.618561\n",
      "Train Epoch: 2 [52480/55413 (95%)]\tLoss: 419.614502\n",
      "Train Epoch: 2 [53760/55413 (97%)]\tLoss: 410.609192\n",
      "Train Epoch: 2 [55040/55413 (99%)]\tLoss: 402.859192\n",
      "====> Epoch: 2 Average loss: 431.5262\n",
      "====> Test set loss: 371.5039\n",
      "Train Epoch: 3 [0/55413 (0%)]\tLoss: 407.994598\n",
      "Train Epoch: 3 [1280/55413 (2%)]\tLoss: 360.421875\n",
      "Train Epoch: 3 [2560/55413 (5%)]\tLoss: 378.939423\n",
      "Train Epoch: 3 [3840/55413 (7%)]\tLoss: 417.859131\n",
      "Train Epoch: 3 [5120/55413 (9%)]\tLoss: 379.610016\n",
      "Train Epoch: 3 [6400/55413 (12%)]\tLoss: 358.875916\n",
      "Train Epoch: 3 [7680/55413 (14%)]\tLoss: 390.279358\n",
      "Train Epoch: 3 [8960/55413 (16%)]\tLoss: 379.343567\n",
      "Train Epoch: 3 [10240/55413 (18%)]\tLoss: 386.825684\n",
      "Train Epoch: 3 [11520/55413 (21%)]\tLoss: 373.186340\n",
      "Train Epoch: 3 [12800/55413 (23%)]\tLoss: 385.292847\n",
      "Train Epoch: 3 [14080/55413 (25%)]\tLoss: 393.359589\n",
      "Train Epoch: 3 [15360/55413 (28%)]\tLoss: 360.838715\n",
      "Train Epoch: 3 [16640/55413 (30%)]\tLoss: 391.293793\n",
      "Train Epoch: 3 [17920/55413 (32%)]\tLoss: 363.947144\n",
      "Train Epoch: 3 [19200/55413 (35%)]\tLoss: 393.278015\n",
      "Train Epoch: 3 [20480/55413 (37%)]\tLoss: 358.965454\n",
      "Train Epoch: 3 [21760/55413 (39%)]\tLoss: 393.490143\n",
      "Train Epoch: 3 [23040/55413 (42%)]\tLoss: 383.071594\n",
      "Train Epoch: 3 [24320/55413 (44%)]\tLoss: 376.184204\n",
      "Train Epoch: 3 [25600/55413 (46%)]\tLoss: 377.641113\n"
     ]
    }
   ],
   "source": [
    "if __name__ == \"__main__\":\n",
    "    for epoch in range(1, epochs + 1):\n",
    "        train(epoch)\n",
    "        test(epoch)\n",
    "        with torch.no_grad():\n",
    "            sample = torch.randn(batch_size, embedding_dim).to(device)\n",
    "            sample = model.decode(sample).cpu()\n",
    "            save_image(sample.view(batch_size, nb_channels, x_dim, y_dim),\n",
    "                       'results/sample_' + str(epoch) + '.png')"
   ]
  },
  {
   "cell_type": "code",
   "execution_count": null,
   "metadata": {},
   "outputs": [],
   "source": []
  }
 ],
 "metadata": {
  "kernelspec": {
   "display_name": "fake-everything",
   "language": "python",
   "name": "fake-everything"
  },
  "language_info": {
   "codemirror_mode": {
    "name": "ipython",
    "version": 3
   },
   "file_extension": ".py",
   "mimetype": "text/x-python",
   "name": "python",
   "nbconvert_exporter": "python",
   "pygments_lexer": "ipython3",
   "version": "3.7.1"
  }
 },
 "nbformat": 4,
 "nbformat_minor": 2
}
