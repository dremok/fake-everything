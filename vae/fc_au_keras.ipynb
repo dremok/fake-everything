{
 "cells": [
  {
   "cell_type": "markdown",
   "metadata": {},
   "source": [
    "### Trying to reproduce a simple VAE from this tutorial:\n",
    "#### https://becominghuman.ai/variational-autoencoders-for-new-fruits-with-keras-and-pytorch-6d0cfc4eeabd\n",
    "\n",
    "#### Dataset can be downloaded here: https://www.kaggle.com/moltean/fruits"
   ]
  },
  {
   "cell_type": "code",
   "execution_count": 1,
   "metadata": {},
   "outputs": [],
   "source": [
    "%matplotlib inline"
   ]
  },
  {
   "cell_type": "markdown",
   "metadata": {},
   "source": [
    "## 0. Imports"
   ]
  },
  {
   "cell_type": "code",
   "execution_count": 4,
   "metadata": {},
   "outputs": [
    {
     "name": "stderr",
     "output_type": "stream",
     "text": [
      "Using TensorFlow backend.\n"
     ]
    }
   ],
   "source": [
    "import matplotlib.pyplot as plt\n",
    "import seaborn as sns\n",
    "import math\n",
    "import os\n",
    "import pickle\n",
    "import numpy as np\n",
    "from PIL import Image\n",
    "from keras.preprocessing.image import img_to_array"
   ]
  },
  {
   "cell_type": "code",
   "execution_count": 6,
   "metadata": {},
   "outputs": [],
   "source": [
    "from keras import applications\n",
    "from keras import backend as K\n",
    "from keras import optimizers\n",
    "from keras.callbacks import ModelCheckpoint, History\n",
    "from keras.layers import Dense, Input, UpSampling2D, Conv2D\n",
    "from keras.models import Model\n",
    "from keras.preprocessing.image import ImageDataGenerator\n",
    "from keras_tqdm import TQDMCallback, TQDMNotebookCallback"
   ]
  },
  {
   "cell_type": "markdown",
   "metadata": {},
   "source": [
    "## 1. Config"
   ]
  },
  {
   "cell_type": "code",
   "execution_count": 7,
   "metadata": {},
   "outputs": [],
   "source": [
    "img_width, img_height = 100, 100\n",
    "train_data_dir = 'data/fruits-360/Training'\n",
    "validation_data_dir = 'data/fruits-360/Test'\n",
    "batch_size = 64\n",
    "nb_epoch = 50\n",
    "nb_channels = 3"
   ]
  },
  {
   "cell_type": "markdown",
   "metadata": {},
   "source": [
    "## 2. See data"
   ]
  },
  {
   "cell_type": "code",
   "execution_count": 8,
   "metadata": {},
   "outputs": [
    {
     "data": {
      "text/plain": [
       "<matplotlib.image.AxesImage at 0x1336fb0f0>"
      ]
     },
     "execution_count": 8,
     "metadata": {},
     "output_type": "execute_result"
    },
    {
     "data": {
      "image/png": "[encoded data removed]",
      "text/plain": [
       "<Figure size 432x288 with 1 Axes>"
      ]
     },
     "metadata": {
      "needs_background": "light"
     },
     "output_type": "display_data"
    }
   ],
   "source": [
    "img = plt.imread(f'{train_data_dir}/Banana/66_100.jpg')\n",
    "plt.imshow(img)"
   ]
  },
  {
   "cell_type": "markdown",
   "metadata": {},
   "source": [
    "## 3. Model"
   ]
  },
  {
   "cell_type": "markdown",
   "metadata": {},
   "source": [
    "### 3.1. FC"
   ]
  },
  {
   "cell_type": "markdown",
   "metadata": {},
   "source": [
    "#### Config"
   ]
  },
  {
   "cell_type": "code",
   "execution_count": 6,
   "metadata": {},
   "outputs": [],
   "source": [
    "encoding_dim = 256"
   ]
  },
  {
   "cell_type": "code",
   "execution_count": 7,
   "metadata": {},
   "outputs": [],
   "source": [
    "def flattened_generator(generator):\n",
    "    for batch in generator:\n",
    "        yield (batch.reshape(-1,img_width*img_height*nb_channels), batch.reshape(-1,img_width*img_height*nb_channels))"
   ]
  },
  {
   "cell_type": "markdown",
   "metadata": {},
   "source": [
    "#### Data loaders"
   ]
  },
  {
   "cell_type": "code",
   "execution_count": 8,
   "metadata": {},
   "outputs": [],
   "source": [
    "train_datagen = ImageDataGenerator(\n",
    "        rescale=1./255,\n",
    "        shear_range=0.2,\n",
    "        zoom_range=0.2,\n",
    "        horizontal_flip=True)\n",
    "\n",
    "test_datagen = ImageDataGenerator(rescale=1./255)"
   ]
  },
  {
   "cell_type": "code",
   "execution_count": 9,
   "metadata": {},
   "outputs": [
    {
     "name": "stdout",
     "output_type": "stream",
     "text": [
      "Found 55413 images belonging to 108 classes.\n",
      "Found 18597 images belonging to 108 classes.\n"
     ]
    }
   ],
   "source": [
    "train_generator = train_datagen.flow_from_directory(\n",
    "        train_data_dir,\n",
    "        target_size=(img_width, img_height),\n",
    "        batch_size=batch_size,\n",
    "        class_mode=None, shuffle=True)\n",
    "\n",
    "validation_generator = test_datagen.flow_from_directory(\n",
    "        validation_data_dir,\n",
    "        target_size=(img_width, img_height),\n",
    "        batch_size=batch_size,\n",
    "        class_mode=None, shuffle=True)"
   ]
  },
  {
   "cell_type": "markdown",
   "metadata": {},
   "source": [
    "#### Model"
   ]
  },
  {
   "cell_type": "code",
   "execution_count": 10,
   "metadata": {},
   "outputs": [],
   "source": [
    "def AE_FC():\n",
    "    input_img = Input(shape=(img_height*img_width*nb_channels,))\n",
    "    encoded = Dense(encoding_dim, activation='relu')(input_img)\n",
    "    decoded = Dense(img_height*img_width*nb_channels, activation='sigmoid')(encoded)\n",
    "    return Model(input_img, decoded)"
   ]
  },
  {
   "cell_type": "code",
   "execution_count": 11,
   "metadata": {},
   "outputs": [],
   "source": [
    "autoencoder = AE_FC()"
   ]
  },
  {
   "cell_type": "code",
   "execution_count": 12,
   "metadata": {
    "scrolled": true
   },
   "outputs": [
    {
     "name": "stdout",
     "output_type": "stream",
     "text": [
      "_________________________________________________________________\n",
      "Layer (type)                 Output Shape              Param #   \n",
      "=================================================================\n",
      "input_1 (InputLayer)         (None, 30000)             0         \n",
      "_________________________________________________________________\n",
      "dense_1 (Dense)              (None, 256)               7680256   \n",
      "_________________________________________________________________\n",
      "dense_2 (Dense)              (None, 30000)             7710000   \n",
      "=================================================================\n",
      "Total params: 15,390,256\n",
      "Trainable params: 15,390,256\n",
      "Non-trainable params: 0\n",
      "_________________________________________________________________\n"
     ]
    }
   ],
   "source": [
    "autoencoder.summary()"
   ]
  },
  {
   "cell_type": "code",
   "execution_count": 13,
   "metadata": {},
   "outputs": [],
   "source": [
    "autoencoder.compile(optimizer='adadelta', loss='binary_crossentropy')"
   ]
  },
  {
   "cell_type": "markdown",
   "metadata": {},
   "source": [
    "#### Train"
   ]
  },
  {
   "cell_type": "code",
   "execution_count": 14,
   "metadata": {},
   "outputs": [],
   "source": [
    "checkpoint = ModelCheckpoint(filepath = \"model_weights_ae_fc.h5\", save_best_only=True, monitor=\"val_loss\", mode=\"min\" )\n",
    "history = History()"
   ]
  },
  {
   "cell_type": "code",
   "execution_count": 15,
   "metadata": {},
   "outputs": [
    {
     "name": "stderr",
     "output_type": "stream",
     "text": [
      "/Users/max.leander/anaconda3/envs/fake-everything/lib/python3.6/site-packages/ipykernel_launcher.py:8: UserWarning: The semantics of the Keras 2 argument `steps_per_epoch` is not the same as the Keras 1 argument `samples_per_epoch`. `steps_per_epoch` is the number of batches to draw from the generator at each epoch. Basically steps_per_epoch = samples_per_epoch/batch_size. Similarly `nb_val_samples`->`validation_steps` and `val_samples`->`steps` arguments have changed. Update your method calls accordingly.\n",
      "  \n",
      "/Users/max.leander/anaconda3/envs/fake-everything/lib/python3.6/site-packages/ipykernel_launcher.py:8: UserWarning: Update your `fit_generator` call to the Keras 2 API: `fit_generator(<generator..., validation_data=<generator..., verbose=0, callbacks=[<keras.ca..., steps_per_epoch=645, epochs=50, validation_steps=216)`\n",
      "  \n"
     ]
    },
    {
     "data": {
      "application/vnd.jupyter.widget-view+json": {
       "model_id": "5d72ad3019284dcd8a1f253f5dc5d93b",
       "version_major": 2,
       "version_minor": 0
      },
      "text/plain": [
       "HBox(children=(IntProgress(value=0, description='Training', max=50, style=ProgressStyle(description_width='ini…"
      ]
     },
     "metadata": {},
     "output_type": "display_data"
    },
    {
     "data": {
      "application/vnd.jupyter.widget-view+json": {
       "model_id": "0ebbbf7f555c49078876c780d26cceca",
       "version_major": 2,
       "version_minor": 0
      },
      "text/plain": [
       "HBox(children=(IntProgress(value=0, description='Epoch 0', max=645, style=ProgressStyle(description_width='ini…"
      ]
     },
     "metadata": {},
     "output_type": "display_data"
    },
    {
     "ename": "KeyboardInterrupt",
     "evalue": "",
     "output_type": "error",
     "traceback": [
      "\u001b[0;31m---------------------------------------------------------------------------\u001b[0m",
      "\u001b[0;31mKeyboardInterrupt\u001b[0m                         Traceback (most recent call last)",
      "\u001b[0;32m<ipython-input-15-caeefed3366e>\u001b[0m in \u001b[0;36m<module>\u001b[0;34m\u001b[0m\n\u001b[1;32m      6\u001b[0m     \u001b[0mnb_val_samples\u001b[0m\u001b[0;34m=\u001b[0m\u001b[0mmath\u001b[0m\u001b[0;34m.\u001b[0m\u001b[0mfloor\u001b[0m\u001b[0;34m(\u001b[0m\u001b[0;36m13877\u001b[0m  \u001b[0;34m/\u001b[0m \u001b[0mbatch_size\u001b[0m\u001b[0;34m)\u001b[0m\u001b[0;34m,\u001b[0m\u001b[0;34m\u001b[0m\u001b[0;34m\u001b[0m\u001b[0m\n\u001b[1;32m      7\u001b[0m     \u001b[0mverbose\u001b[0m\u001b[0;34m=\u001b[0m\u001b[0;36m0\u001b[0m\u001b[0;34m,\u001b[0m\u001b[0;34m\u001b[0m\u001b[0;34m\u001b[0m\u001b[0m\n\u001b[0;32m----> 8\u001b[0;31m     callbacks=[history, checkpoint, TQDMNotebookCallback(leave_inner=True, leave_outer=True)])\n\u001b[0m",
      "\u001b[0;32m~/anaconda3/envs/fake-everything/lib/python3.6/site-packages/keras/legacy/interfaces.py\u001b[0m in \u001b[0;36mwrapper\u001b[0;34m(*args, **kwargs)\u001b[0m\n\u001b[1;32m     89\u001b[0m                 warnings.warn('Update your `' + object_name + '` call to the ' +\n\u001b[1;32m     90\u001b[0m                               'Keras 2 API: ' + signature, stacklevel=2)\n\u001b[0;32m---> 91\u001b[0;31m             \u001b[0;32mreturn\u001b[0m \u001b[0mfunc\u001b[0m\u001b[0;34m(\u001b[0m\u001b[0;34m*\u001b[0m\u001b[0margs\u001b[0m\u001b[0;34m,\u001b[0m \u001b[0;34m**\u001b[0m\u001b[0mkwargs\u001b[0m\u001b[0;34m)\u001b[0m\u001b[0;34m\u001b[0m\u001b[0;34m\u001b[0m\u001b[0m\n\u001b[0m\u001b[1;32m     92\u001b[0m         \u001b[0mwrapper\u001b[0m\u001b[0;34m.\u001b[0m\u001b[0m_original_function\u001b[0m \u001b[0;34m=\u001b[0m \u001b[0mfunc\u001b[0m\u001b[0;34m\u001b[0m\u001b[0;34m\u001b[0m\u001b[0m\n\u001b[1;32m     93\u001b[0m         \u001b[0;32mreturn\u001b[0m \u001b[0mwrapper\u001b[0m\u001b[0;34m\u001b[0m\u001b[0;34m\u001b[0m\u001b[0m\n",
      "\u001b[0;32m~/anaconda3/envs/fake-everything/lib/python3.6/site-packages/keras/engine/training.py\u001b[0m in \u001b[0;36mfit_generator\u001b[0;34m(self, generator, steps_per_epoch, epochs, verbose, callbacks, validation_data, validation_steps, class_weight, max_queue_size, workers, use_multiprocessing, shuffle, initial_epoch)\u001b[0m\n\u001b[1;32m   1416\u001b[0m             \u001b[0muse_multiprocessing\u001b[0m\u001b[0;34m=\u001b[0m\u001b[0muse_multiprocessing\u001b[0m\u001b[0;34m,\u001b[0m\u001b[0;34m\u001b[0m\u001b[0;34m\u001b[0m\u001b[0m\n\u001b[1;32m   1417\u001b[0m             \u001b[0mshuffle\u001b[0m\u001b[0;34m=\u001b[0m\u001b[0mshuffle\u001b[0m\u001b[0;34m,\u001b[0m\u001b[0;34m\u001b[0m\u001b[0;34m\u001b[0m\u001b[0m\n\u001b[0;32m-> 1418\u001b[0;31m             initial_epoch=initial_epoch)\n\u001b[0m\u001b[1;32m   1419\u001b[0m \u001b[0;34m\u001b[0m\u001b[0m\n\u001b[1;32m   1420\u001b[0m     \u001b[0;34m@\u001b[0m\u001b[0minterfaces\u001b[0m\u001b[0;34m.\u001b[0m\u001b[0mlegacy_generator_methods_support\u001b[0m\u001b[0;34m\u001b[0m\u001b[0;34m\u001b[0m\u001b[0m\n",
      "\u001b[0;32m~/anaconda3/envs/fake-everything/lib/python3.6/site-packages/keras/engine/training_generator.py\u001b[0m in \u001b[0;36mfit_generator\u001b[0;34m(model, generator, steps_per_epoch, epochs, verbose, callbacks, validation_data, validation_steps, class_weight, max_queue_size, workers, use_multiprocessing, shuffle, initial_epoch)\u001b[0m\n\u001b[1;32m    215\u001b[0m                 outs = model.train_on_batch(x, y,\n\u001b[1;32m    216\u001b[0m                                             \u001b[0msample_weight\u001b[0m\u001b[0;34m=\u001b[0m\u001b[0msample_weight\u001b[0m\u001b[0;34m,\u001b[0m\u001b[0;34m\u001b[0m\u001b[0;34m\u001b[0m\u001b[0m\n\u001b[0;32m--> 217\u001b[0;31m                                             class_weight=class_weight)\n\u001b[0m\u001b[1;32m    218\u001b[0m \u001b[0;34m\u001b[0m\u001b[0m\n\u001b[1;32m    219\u001b[0m                 \u001b[0mouts\u001b[0m \u001b[0;34m=\u001b[0m \u001b[0mto_list\u001b[0m\u001b[0;34m(\u001b[0m\u001b[0mouts\u001b[0m\u001b[0;34m)\u001b[0m\u001b[0;34m\u001b[0m\u001b[0;34m\u001b[0m\u001b[0m\n",
      "\u001b[0;32m~/anaconda3/envs/fake-everything/lib/python3.6/site-packages/keras/engine/training.py\u001b[0m in \u001b[0;36mtrain_on_batch\u001b[0;34m(self, x, y, sample_weight, class_weight)\u001b[0m\n\u001b[1;32m   1215\u001b[0m             \u001b[0mins\u001b[0m \u001b[0;34m=\u001b[0m \u001b[0mx\u001b[0m \u001b[0;34m+\u001b[0m \u001b[0my\u001b[0m \u001b[0;34m+\u001b[0m \u001b[0msample_weights\u001b[0m\u001b[0;34m\u001b[0m\u001b[0;34m\u001b[0m\u001b[0m\n\u001b[1;32m   1216\u001b[0m         \u001b[0mself\u001b[0m\u001b[0;34m.\u001b[0m\u001b[0m_make_train_function\u001b[0m\u001b[0;34m(\u001b[0m\u001b[0;34m)\u001b[0m\u001b[0;34m\u001b[0m\u001b[0;34m\u001b[0m\u001b[0m\n\u001b[0;32m-> 1217\u001b[0;31m         \u001b[0moutputs\u001b[0m \u001b[0;34m=\u001b[0m \u001b[0mself\u001b[0m\u001b[0;34m.\u001b[0m\u001b[0mtrain_function\u001b[0m\u001b[0;34m(\u001b[0m\u001b[0mins\u001b[0m\u001b[0;34m)\u001b[0m\u001b[0;34m\u001b[0m\u001b[0;34m\u001b[0m\u001b[0m\n\u001b[0m\u001b[1;32m   1218\u001b[0m         \u001b[0;32mreturn\u001b[0m \u001b[0munpack_singleton\u001b[0m\u001b[0;34m(\u001b[0m\u001b[0moutputs\u001b[0m\u001b[0;34m)\u001b[0m\u001b[0;34m\u001b[0m\u001b[0;34m\u001b[0m\u001b[0m\n\u001b[1;32m   1219\u001b[0m \u001b[0;34m\u001b[0m\u001b[0m\n",
      "\u001b[0;32m~/anaconda3/envs/fake-everything/lib/python3.6/site-packages/keras/backend/tensorflow_backend.py\u001b[0m in \u001b[0;36m__call__\u001b[0;34m(self, inputs)\u001b[0m\n\u001b[1;32m   2719\u001b[0m                     \u001b[0;34m'In order to feed symbolic tensors to a Keras model '\u001b[0m\u001b[0;34m\u001b[0m\u001b[0;34m\u001b[0m\u001b[0m\n\u001b[1;32m   2720\u001b[0m                     'in TensorFlow, you need tensorflow 1.8 or higher.')\n\u001b[0;32m-> 2721\u001b[0;31m             \u001b[0;32mreturn\u001b[0m \u001b[0mself\u001b[0m\u001b[0;34m.\u001b[0m\u001b[0m_legacy_call\u001b[0m\u001b[0;34m(\u001b[0m\u001b[0minputs\u001b[0m\u001b[0;34m)\u001b[0m\u001b[0;34m\u001b[0m\u001b[0;34m\u001b[0m\u001b[0m\n\u001b[0m\u001b[1;32m   2722\u001b[0m \u001b[0;34m\u001b[0m\u001b[0m\n\u001b[1;32m   2723\u001b[0m \u001b[0;34m\u001b[0m\u001b[0m\n",
      "\u001b[0;32m~/anaconda3/envs/fake-everything/lib/python3.6/site-packages/keras/backend/tensorflow_backend.py\u001b[0m in \u001b[0;36m_legacy_call\u001b[0;34m(self, inputs)\u001b[0m\n\u001b[1;32m   2691\u001b[0m         \u001b[0msession\u001b[0m \u001b[0;34m=\u001b[0m \u001b[0mget_session\u001b[0m\u001b[0;34m(\u001b[0m\u001b[0;34m)\u001b[0m\u001b[0;34m\u001b[0m\u001b[0;34m\u001b[0m\u001b[0m\n\u001b[1;32m   2692\u001b[0m         updated = session.run(fetches=fetches, feed_dict=feed_dict,\n\u001b[0;32m-> 2693\u001b[0;31m                               **self.session_kwargs)\n\u001b[0m\u001b[1;32m   2694\u001b[0m         \u001b[0;32mreturn\u001b[0m \u001b[0mupdated\u001b[0m\u001b[0;34m[\u001b[0m\u001b[0;34m:\u001b[0m\u001b[0mlen\u001b[0m\u001b[0;34m(\u001b[0m\u001b[0mself\u001b[0m\u001b[0;34m.\u001b[0m\u001b[0moutputs\u001b[0m\u001b[0;34m)\u001b[0m\u001b[0;34m]\u001b[0m\u001b[0;34m\u001b[0m\u001b[0;34m\u001b[0m\u001b[0m\n\u001b[1;32m   2695\u001b[0m \u001b[0;34m\u001b[0m\u001b[0m\n",
      "\u001b[0;32m~/anaconda3/envs/fake-everything/lib/python3.6/site-packages/tensorflow/python/client/session.py\u001b[0m in \u001b[0;36mrun\u001b[0;34m(self, fetches, feed_dict, options, run_metadata)\u001b[0m\n\u001b[1;32m    776\u001b[0m     \u001b[0;32mtry\u001b[0m\u001b[0;34m:\u001b[0m\u001b[0;34m\u001b[0m\u001b[0;34m\u001b[0m\u001b[0m\n\u001b[1;32m    777\u001b[0m       result = self._run(None, fetches, feed_dict, options_ptr,\n\u001b[0;32m--> 778\u001b[0;31m                          run_metadata_ptr)\n\u001b[0m\u001b[1;32m    779\u001b[0m       \u001b[0;32mif\u001b[0m \u001b[0mrun_metadata\u001b[0m\u001b[0;34m:\u001b[0m\u001b[0;34m\u001b[0m\u001b[0;34m\u001b[0m\u001b[0m\n\u001b[1;32m    780\u001b[0m         \u001b[0mproto_data\u001b[0m \u001b[0;34m=\u001b[0m \u001b[0mtf_session\u001b[0m\u001b[0;34m.\u001b[0m\u001b[0mTF_GetBuffer\u001b[0m\u001b[0;34m(\u001b[0m\u001b[0mrun_metadata_ptr\u001b[0m\u001b[0;34m)\u001b[0m\u001b[0;34m\u001b[0m\u001b[0;34m\u001b[0m\u001b[0m\n",
      "\u001b[0;32m~/anaconda3/envs/fake-everything/lib/python3.6/site-packages/tensorflow/python/client/session.py\u001b[0m in \u001b[0;36m_run\u001b[0;34m(self, handle, fetches, feed_dict, options, run_metadata)\u001b[0m\n\u001b[1;32m    980\u001b[0m     \u001b[0;32mif\u001b[0m \u001b[0mfinal_fetches\u001b[0m \u001b[0;32mor\u001b[0m \u001b[0mfinal_targets\u001b[0m\u001b[0;34m:\u001b[0m\u001b[0;34m\u001b[0m\u001b[0;34m\u001b[0m\u001b[0m\n\u001b[1;32m    981\u001b[0m       results = self._do_run(handle, final_targets, final_fetches,\n\u001b[0;32m--> 982\u001b[0;31m                              feed_dict_string, options, run_metadata)\n\u001b[0m\u001b[1;32m    983\u001b[0m     \u001b[0;32melse\u001b[0m\u001b[0;34m:\u001b[0m\u001b[0;34m\u001b[0m\u001b[0;34m\u001b[0m\u001b[0m\n\u001b[1;32m    984\u001b[0m       \u001b[0mresults\u001b[0m \u001b[0;34m=\u001b[0m \u001b[0;34m[\u001b[0m\u001b[0;34m]\u001b[0m\u001b[0;34m\u001b[0m\u001b[0;34m\u001b[0m\u001b[0m\n",
      "\u001b[0;32m~/anaconda3/envs/fake-everything/lib/python3.6/site-packages/tensorflow/python/client/session.py\u001b[0m in \u001b[0;36m_do_run\u001b[0;34m(self, handle, target_list, fetch_list, feed_dict, options, run_metadata)\u001b[0m\n\u001b[1;32m   1030\u001b[0m     \u001b[0;32mif\u001b[0m \u001b[0mhandle\u001b[0m \u001b[0;32mis\u001b[0m \u001b[0;32mNone\u001b[0m\u001b[0;34m:\u001b[0m\u001b[0;34m\u001b[0m\u001b[0;34m\u001b[0m\u001b[0m\n\u001b[1;32m   1031\u001b[0m       return self._do_call(_run_fn, self._session, feed_dict, fetch_list,\n\u001b[0;32m-> 1032\u001b[0;31m                            target_list, options, run_metadata)\n\u001b[0m\u001b[1;32m   1033\u001b[0m     \u001b[0;32melse\u001b[0m\u001b[0;34m:\u001b[0m\u001b[0;34m\u001b[0m\u001b[0;34m\u001b[0m\u001b[0m\n\u001b[1;32m   1034\u001b[0m       return self._do_call(_prun_fn, self._session, handle, feed_dict,\n",
      "\u001b[0;32m~/anaconda3/envs/fake-everything/lib/python3.6/site-packages/tensorflow/python/client/session.py\u001b[0m in \u001b[0;36m_do_call\u001b[0;34m(self, fn, *args)\u001b[0m\n\u001b[1;32m   1037\u001b[0m   \u001b[0;32mdef\u001b[0m \u001b[0m_do_call\u001b[0m\u001b[0;34m(\u001b[0m\u001b[0mself\u001b[0m\u001b[0;34m,\u001b[0m \u001b[0mfn\u001b[0m\u001b[0;34m,\u001b[0m \u001b[0;34m*\u001b[0m\u001b[0margs\u001b[0m\u001b[0;34m)\u001b[0m\u001b[0;34m:\u001b[0m\u001b[0;34m\u001b[0m\u001b[0;34m\u001b[0m\u001b[0m\n\u001b[1;32m   1038\u001b[0m     \u001b[0;32mtry\u001b[0m\u001b[0;34m:\u001b[0m\u001b[0;34m\u001b[0m\u001b[0;34m\u001b[0m\u001b[0m\n\u001b[0;32m-> 1039\u001b[0;31m       \u001b[0;32mreturn\u001b[0m \u001b[0mfn\u001b[0m\u001b[0;34m(\u001b[0m\u001b[0;34m*\u001b[0m\u001b[0margs\u001b[0m\u001b[0;34m)\u001b[0m\u001b[0;34m\u001b[0m\u001b[0;34m\u001b[0m\u001b[0m\n\u001b[0m\u001b[1;32m   1040\u001b[0m     \u001b[0;32mexcept\u001b[0m \u001b[0merrors\u001b[0m\u001b[0;34m.\u001b[0m\u001b[0mOpError\u001b[0m \u001b[0;32mas\u001b[0m \u001b[0me\u001b[0m\u001b[0;34m:\u001b[0m\u001b[0;34m\u001b[0m\u001b[0;34m\u001b[0m\u001b[0m\n\u001b[1;32m   1041\u001b[0m       \u001b[0mmessage\u001b[0m \u001b[0;34m=\u001b[0m \u001b[0mcompat\u001b[0m\u001b[0;34m.\u001b[0m\u001b[0mas_text\u001b[0m\u001b[0;34m(\u001b[0m\u001b[0me\u001b[0m\u001b[0;34m.\u001b[0m\u001b[0mmessage\u001b[0m\u001b[0;34m)\u001b[0m\u001b[0;34m\u001b[0m\u001b[0;34m\u001b[0m\u001b[0m\n",
      "\u001b[0;32m~/anaconda3/envs/fake-everything/lib/python3.6/site-packages/tensorflow/python/client/session.py\u001b[0m in \u001b[0;36m_run_fn\u001b[0;34m(session, feed_dict, fetch_list, target_list, options, run_metadata)\u001b[0m\n\u001b[1;32m   1019\u001b[0m         return tf_session.TF_Run(session, options,\n\u001b[1;32m   1020\u001b[0m                                  \u001b[0mfeed_dict\u001b[0m\u001b[0;34m,\u001b[0m \u001b[0mfetch_list\u001b[0m\u001b[0;34m,\u001b[0m \u001b[0mtarget_list\u001b[0m\u001b[0;34m,\u001b[0m\u001b[0;34m\u001b[0m\u001b[0;34m\u001b[0m\u001b[0m\n\u001b[0;32m-> 1021\u001b[0;31m                                  status, run_metadata)\n\u001b[0m\u001b[1;32m   1022\u001b[0m \u001b[0;34m\u001b[0m\u001b[0m\n\u001b[1;32m   1023\u001b[0m     \u001b[0;32mdef\u001b[0m \u001b[0m_prun_fn\u001b[0m\u001b[0;34m(\u001b[0m\u001b[0msession\u001b[0m\u001b[0;34m,\u001b[0m \u001b[0mhandle\u001b[0m\u001b[0;34m,\u001b[0m \u001b[0mfeed_dict\u001b[0m\u001b[0;34m,\u001b[0m \u001b[0mfetch_list\u001b[0m\u001b[0;34m)\u001b[0m\u001b[0;34m:\u001b[0m\u001b[0;34m\u001b[0m\u001b[0;34m\u001b[0m\u001b[0m\n",
      "\u001b[0;31mKeyboardInterrupt\u001b[0m: "
     ]
    }
   ],
   "source": [
    "autoencoder.fit_generator(\n",
    "    flattened_generator(train_generator),\n",
    "    samples_per_epoch=math.floor(41322  / batch_size),\n",
    "    nb_epoch=nb_epoch,\n",
    "    validation_data=flattened_generator(validation_generator),\n",
    "    nb_val_samples=math.floor(13877  / batch_size),\n",
    "    verbose=0,\n",
    "    callbacks=[history, checkpoint, TQDMNotebookCallback(leave_inner=True, leave_outer=True)])"
   ]
  },
  {
   "cell_type": "markdown",
   "metadata": {},
   "source": [
    "#### Reconstruction sample"
   ]
  },
  {
   "cell_type": "code",
   "execution_count": null,
   "metadata": {},
   "outputs": [],
   "source": [
    "x_test = validation_generator.next()"
   ]
  },
  {
   "cell_type": "code",
   "execution_count": null,
   "metadata": {},
   "outputs": [],
   "source": [
    "decoded_imgs = autoencoder.predict(x_test.reshape(64,30000))"
   ]
  },
  {
   "cell_type": "code",
   "execution_count": null,
   "metadata": {},
   "outputs": [],
   "source": [
    "n = 10\n",
    "plt.figure(figsize=(20, 4))\n",
    "for i in range(n):\n",
    "    # display original\n",
    "    ax = plt.subplot(2, n, i+1)\n",
    "    plt.imshow(x_test[i])\n",
    "    plt.gray()\n",
    "    ax.get_xaxis().set_visible(False)\n",
    "    ax.get_yaxis().set_visible(False)\n",
    "\n",
    "    # display reconstruction\n",
    "    ax = plt.subplot(2, n, i + n+1)\n",
    "    plt.imshow(decoded_imgs[i].reshape(100,100,3))\n",
    "    plt.gray()\n",
    "    ax.get_xaxis().set_visible(False)\n",
    "    ax.get_yaxis().set_visible(False)\n",
    "plt.show()"
   ]
  },
  {
   "cell_type": "markdown",
   "metadata": {},
   "source": [
    "#### History"
   ]
  },
  {
   "cell_type": "code",
   "execution_count": null,
   "metadata": {},
   "outputs": [],
   "source": [
    "plt.figure(figsize=(15,10))\n",
    "plt.plot(history.epoch,history.history[\"val_loss\"])\n",
    "plt.plot(history.epoch,history.history[\"loss\"])\n",
    "plt.title(\"Validation loss and loss per epoch\",fontsize=18)\n",
    "plt.xlabel(\"epoch\",fontsize=18)\n",
    "plt.ylabel(\"loss\",fontsize=18)\n",
    "plt.legend(['Validation Loss','Training Loss'],fontsize=14)\n",
    "plt.show()"
   ]
  },
  {
   "cell_type": "code",
   "execution_count": null,
   "metadata": {},
   "outputs": [],
   "source": [
    "with open(\"history_fc.pickle\",\"wb\") as file:\n",
    "    pickle.dump(history.history, file)"
   ]
  },
  {
   "cell_type": "markdown",
   "metadata": {},
   "source": [
    "### 3.2. CNN AE"
   ]
  },
  {
   "cell_type": "markdown",
   "metadata": {},
   "source": [
    "#### Config"
   ]
  },
  {
   "cell_type": "code",
   "execution_count": null,
   "metadata": {},
   "outputs": [],
   "source": [
    "def fixed_generator(generator):\n",
    "    for batch in generator:\n",
    "        yield (batch, batch)"
   ]
  },
  {
   "cell_type": "markdown",
   "metadata": {},
   "source": [
    "#### Data loaders"
   ]
  },
  {
   "cell_type": "code",
   "execution_count": null,
   "metadata": {},
   "outputs": [],
   "source": [
    "train_datagen_cnn = ImageDataGenerator(\n",
    "        rescale=1./255,\n",
    "        shear_range=0.2,\n",
    "        zoom_range=0.2,\n",
    "        horizontal_flip=True)\n",
    "\n",
    "test_datagen_cnn = ImageDataGenerator(rescale=1./255)"
   ]
  },
  {
   "cell_type": "code",
   "execution_count": null,
   "metadata": {},
   "outputs": [],
   "source": [
    "train_generator_cnn = train_datagen_cnn.flow_from_directory(\n",
    "        train_data_dir,\n",
    "        target_size=(img_width, img_height),\n",
    "        batch_size=batch_size,\n",
    "        class_mode=None, shuffle=True)"
   ]
  },
  {
   "cell_type": "code",
   "execution_count": null,
   "metadata": {},
   "outputs": [],
   "source": [
    "validation_generator_cnn = test_datagen_cnn.flow_from_directory(\n",
    "        validation_data_dir,\n",
    "        target_size=(img_width, img_height),\n",
    "        batch_size=batch_size,\n",
    "        class_mode=None, shuffle=True)"
   ]
  },
  {
   "cell_type": "markdown",
   "metadata": {},
   "source": [
    "#### Model"
   ]
  },
  {
   "cell_type": "code",
   "execution_count": null,
   "metadata": {},
   "outputs": [],
   "source": [
    "def AE_CNN():\n",
    "    input_img = Input(shape=(img_width, img_height, 3))\n",
    "    \n",
    "    # Encoding network\n",
    "    x = Conv2D(16, (3, 3), activation='relu', padding='same', strides=2)(input_img)\n",
    "    x = Conv2D(32, (3, 3), activation='relu', padding='same', strides=2)(x)\n",
    "    encoded = Conv2D(32, (2, 2), activation='relu', padding=\"same\", strides=2)(x)\n",
    "\n",
    "    # Decoding network\n",
    "    x = Conv2D(32, (2, 2), activation='relu', padding=\"same\")(encoded)\n",
    "    x = UpSampling2D((2, 2))(x)\n",
    "    x = Conv2D(32, (3, 3), activation='relu', padding='same')(x)\n",
    "    x = UpSampling2D((2, 2))(x)\n",
    "    x = Conv2D(16, (3, 3), activation='relu')(x)\n",
    "    x = UpSampling2D((2, 2))(x)\n",
    "    decoded = Conv2D(3, (3, 3), activation='sigmoid', padding='same')(x)\n",
    "    \n",
    "    return Model(input_img, decoded)"
   ]
  },
  {
   "cell_type": "code",
   "execution_count": null,
   "metadata": {},
   "outputs": [],
   "source": [
    "checkpoint_cnn = ModelCheckpoint(filepath = \"model_weights_ae_cnn.h5\", save_best_only=True,monitor=\"val_loss\", mode=\"min\" )\n",
    "history_cnn = History()"
   ]
  },
  {
   "cell_type": "code",
   "execution_count": null,
   "metadata": {},
   "outputs": [],
   "source": [
    "autoencoder_cnn = AE_CNN()\n",
    "autoencoder_cnn.compile(optimizer='adadelta', loss='binary_crossentropy')"
   ]
  },
  {
   "cell_type": "markdown",
   "metadata": {},
   "source": [
    "#### Train"
   ]
  },
  {
   "cell_type": "code",
   "execution_count": null,
   "metadata": {
    "scrolled": true
   },
   "outputs": [],
   "source": [
    "autoencoder_cnn.fit_generator(\n",
    "    fixed_generator(train_generator_cnn),\n",
    "    samples_per_epoch=math.floor(41322  / batch_size),\n",
    "    nb_epoch=nb_epoch,\n",
    "    validation_data=fixed_generator(validation_generator_cnn),\n",
    "    nb_val_samples=math.floor(13877  / batch_size),\n",
    "    verbose=0,\n",
    "    callbacks=[history_cnn, checkpoint_cnn, TQDMNotebookCallback(leave_inner=True, leave_outer=True)]\n",
    "        )"
   ]
  },
  {
   "cell_type": "markdown",
   "metadata": {},
   "source": [
    "#### Reconstruction sample"
   ]
  },
  {
   "cell_type": "code",
   "execution_count": null,
   "metadata": {},
   "outputs": [],
   "source": [
    "x_test = validation_generator_cnn.next()"
   ]
  },
  {
   "cell_type": "code",
   "execution_count": null,
   "metadata": {},
   "outputs": [],
   "source": [
    "decoded_imgs = autoencoder_cnn.predict(x_test)"
   ]
  },
  {
   "cell_type": "code",
   "execution_count": null,
   "metadata": {},
   "outputs": [],
   "source": [
    "n = 10\n",
    "plt.figure(figsize=(20, 4))\n",
    "for i in range(n):\n",
    "    # display original\n",
    "    ax = plt.subplot(2, n, i+1)\n",
    "    plt.imshow(x_test[i])\n",
    "    plt.gray()\n",
    "    ax.get_xaxis().set_visible(False)\n",
    "    ax.get_yaxis().set_visible(False)\n",
    "\n",
    "    # display reconstruction\n",
    "    ax = plt.subplot(2, n, i + n+1)\n",
    "    plt.imshow(decoded_imgs[i])\n",
    "    plt.gray()\n",
    "    ax.get_xaxis().set_visible(False)\n",
    "    ax.get_yaxis().set_visible(False)\n",
    "plt.show()"
   ]
  },
  {
   "cell_type": "markdown",
   "metadata": {},
   "source": [
    "#### History"
   ]
  },
  {
   "cell_type": "code",
   "execution_count": null,
   "metadata": {},
   "outputs": [],
   "source": [
    "plt.figure(figsize=(15,10))\n",
    "plt.plot(history_cnn.epoch,history_cnn.history[\"val_loss\"])\n",
    "plt.plot(history_cnn.epoch,history_cnn.history[\"loss\"])\n",
    "plt.title(\"Validation loss and loss per epoch\",fontsize=18)\n",
    "plt.xlabel(\"epoch\",fontsize=18)\n",
    "plt.ylabel(\"loss\",fontsize=18)\n",
    "plt.legend(['Validation Loss','Training Loss'],fontsize=14)\n",
    "plt.show()"
   ]
  },
  {
   "cell_type": "code",
   "execution_count": null,
   "metadata": {},
   "outputs": [],
   "source": [
    "with open(\"history_cnn.pickle\",\"wb\") as file:\n",
    "    pickle.dump(history_cnn.history, file)"
   ]
  }
 ],
 "metadata": {
  "kernelspec": {
   "display_name": "fake-everything",
   "language": "python",
   "name": "fake-everything"
  },
  "language_info": {
   "codemirror_mode": {
    "name": "ipython",
    "version": 3
   },
   "file_extension": ".py",
   "mimetype": "text/x-python",
   "name": "python",
   "nbconvert_exporter": "python",
   "pygments_lexer": "ipython3",
   "version": "3.7.1"
  },
  "widgets": {
   "state": {
    "06fb231f22cc42d0a333ee36894182e2": {
     "views": [
      {
       "cell_index": 20
      }
     ]
    },
    "07079812eef14fb7a654e3f1b6d80d17": {
     "views": [
      {
       "cell_index": 20
      }
     ]
    },
    "0beb9f6a062c479980cbda8033f20980": {
     "views": [
      {
       "cell_index": 29
      }
     ]
    },
    "0cf830d39bba4904a5ce09692538ee93": {
     "views": [
      {
       "cell_index": 20
      }
     ]
    },
    "102a2eb9fa9442ba8d4dfa71c230a2be": {
     "views": [
      {
       "cell_index": 20
      }
     ]
    },
    "102b00bd7bb5475db7c2257a416dfd54": {
     "views": [
      {
       "cell_index": 20
      }
     ]
    },
    "1585a2850e1441f899bb99204a56cf00": {
     "views": [
      {
       "cell_index": 29
      }
     ]
    },
    "1600a57b88e34277be94f29a3251185f": {
     "views": [
      {
       "cell_index": 29
      }
     ]
    },
    "166e2acd09a34557be56ac36ed062615": {
     "views": [
      {
       "cell_index": 20
      }
     ]
    },
    "1c804449be9a45ee933b4c8a463fcc6e": {
     "views": [
      {
       "cell_index": 20
      }
     ]
    },
    "1fc491f09c274f248167f41f20065abf": {
     "views": [
      {
       "cell_index": 29
      }
     ]
    },
    "20bdebcfb27e4bb7bfde87b92c40363f": {
     "views": [
      {
       "cell_index": 29
      }
     ]
    },
    "22ffb6bdb7b54c649aad662e18b7cd21": {
     "views": [
      {
       "cell_index": 29
      }
     ]
    },
    "244335f952494c108c2f35d5b65751c8": {
     "views": [
      {
       "cell_index": 29
      }
     ]
    },
    "25f694ce02984802a115173e4d651701": {
     "views": [
      {
       "cell_index": 29
      }
     ]
    },
    "260ea0f45eec4427871e4eccc244e760": {
     "views": [
      {
       "cell_index": 29
      }
     ]
    },
    "278794429eae4f839ec244cfea784ca2": {
     "views": [
      {
       "cell_index": 29
      }
     ]
    },
    "2db65f9488a7439b85baba9a4d9a3432": {
     "views": [
      {
       "cell_index": 20
      }
     ]
    },
    "302cf444cc4c4fbeaf912f8aa43a25a8": {
     "views": [
      {
       "cell_index": 20
      }
     ]
    },
    "36f5ebb7ff0740f69c948be9451bac08": {
     "views": [
      {
       "cell_index": 29
      }
     ]
    },
    "38bf029f066540a185862d5bf2eeb78e": {
     "views": [
      {
       "cell_index": 20
      }
     ]
    },
    "3ae021bf06bd47b7872661a144f50433": {
     "views": [
      {
       "cell_index": 29
      }
     ]
    },
    "3c89501bcf22419687fc58186a30f368": {
     "views": [
      {
       "cell_index": 20
      }
     ]
    },
    "3ce6f5eb43b64c45b460ff8ce93da5ba": {
     "views": [
      {
       "cell_index": 20
      }
     ]
    },
    "46a71ab8fa05449785480cc2e9a9e6c7": {
     "views": [
      {
       "cell_index": 20
      }
     ]
    },
    "4972326906c646e388f3a40027fbdc52": {
     "views": [
      {
       "cell_index": 29
      }
     ]
    },
    "4a9ea413366d4fb68a63ddd63fb1cbc8": {
     "views": [
      {
       "cell_index": 29
      }
     ]
    },
    "4b34eaff585a42b28f5ef0b254b73091": {
     "views": [
      {
       "cell_index": 29
      }
     ]
    },
    "4bff72b650544a27a2ba591883433a6b": {
     "views": [
      {
       "cell_index": 29
      }
     ]
    },
    "4e73ae5fa54e445d8d4b591ce0ef56a3": {
     "views": [
      {
       "cell_index": 29
      }
     ]
    },
    "50e27cc81384464282407f2bbac8a651": {
     "views": [
      {
       "cell_index": 29
      }
     ]
    },
    "512a784edf134145a5ccedf7916a1ad1": {
     "views": [
      {
       "cell_index": 20
      }
     ]
    },
    "52ac08aa95734e50b51e3c0bf9388fa9": {
     "views": [
      {
       "cell_index": 20
      }
     ]
    },
    "539f6d6689a84d369b17b207cba154f2": {
     "views": [
      {
       "cell_index": 20
      }
     ]
    },
    "545d2738917f43678eba757b1ad881f5": {
     "views": [
      {
       "cell_index": 20
      }
     ]
    },
    "56ae424532f048b1b0c5e5e96f7c359a": {
     "views": [
      {
       "cell_index": 20
      }
     ]
    },
    "590b06ae07f04f399560d7f773144419": {
     "views": [
      {
       "cell_index": 29
      }
     ]
    },
    "5980d4a11c594b20a1d9abccf6f4f736": {
     "views": [
      {
       "cell_index": 20
      }
     ]
    },
    "5fd3502ce2884814ab40f69836d9a134": {
     "views": [
      {
       "cell_index": 20
      }
     ]
    },
    "60927462552f4cd2bdfa810047069e24": {
     "views": [
      {
       "cell_index": 20
      }
     ]
    },
    "612d4cf05ae9421ab7754dac388ce6cb": {
     "views": [
      {
       "cell_index": 29
      }
     ]
    },
    "6298abd9f6ba4efc84f974df65492fb9": {
     "views": [
      {
       "cell_index": 20
      }
     ]
    },
    "667224a790834085b5b8e4f753c37d65": {
     "views": [
      {
       "cell_index": 20
      }
     ]
    },
    "674db8d951b84f3493fe569b8c7ff391": {
     "views": [
      {
       "cell_index": 20
      }
     ]
    },
    "677c630e996c41849ad579c3794fe115": {
     "views": [
      {
       "cell_index": 29
      }
     ]
    },
    "685eb8e9057941e0bde3aafd62c75096": {
     "views": [
      {
       "cell_index": 29
      }
     ]
    },
    "6d3dd833d738426bbc8bd279173f8e10": {
     "views": [
      {
       "cell_index": 29
      }
     ]
    },
    "6e44f5a4fc31406e89b4b4e0df42b22c": {
     "views": [
      {
       "cell_index": 20
      }
     ]
    },
    "6fd30b27af614abc8d6eb59a6327d4cf": {
     "views": [
      {
       "cell_index": 29
      }
     ]
    },
    "702aaf24b862461d8102976c42a2b8d3": {
     "views": [
      {
       "cell_index": 29
      }
     ]
    },
    "7066670b3c9045279b7ceebf20170b9d": {
     "views": [
      {
       "cell_index": 20
      }
     ]
    },
    "72de471ab07e4dc498a9cd2e51688609": {
     "views": [
      {
       "cell_index": 29
      }
     ]
    },
    "73b8ab8860b043c0bb06b62f952ecc1c": {
     "views": [
      {
       "cell_index": 29
      }
     ]
    },
    "75313b2e1b3f42128018938dc38db3c8": {
     "views": [
      {
       "cell_index": 20
      }
     ]
    },
    "76250f03c5b748389230f975b4b46edc": {
     "views": [
      {
       "cell_index": 29
      }
     ]
    },
    "796d047cc07e4944b74437c0d04bf42f": {
     "views": [
      {
       "cell_index": 20
      }
     ]
    },
    "7a57ab2cdb5b4b3dbcd1ae84bd056616": {
     "views": [
      {
       "cell_index": 20
      }
     ]
    },
    "7af66408ab24479ea4401c2e682e8dd6": {
     "views": [
      {
       "cell_index": 20
      }
     ]
    },
    "7bb6d89469a847569828c621765278c6": {
     "views": [
      {
       "cell_index": 20
      }
     ]
    },
    "7c1c5da7742c49bc8d1489abc76f3a25": {
     "views": [
      {
       "cell_index": 20
      }
     ]
    },
    "7ddf29ca2b3943dfa34977f8f8d9b973": {
     "views": [
      {
       "cell_index": 29
      }
     ]
    },
    "7fed3a369c284b1ba9cad89c6b235554": {
     "views": [
      {
       "cell_index": 29
      }
     ]
    },
    "80f4d62c236a4fadaafaf023c35abd2c": {
     "views": [
      {
       "cell_index": 20
      }
     ]
    },
    "819b7d691b0e4da1aea5ec2431203890": {
     "views": [
      {
       "cell_index": 20
      }
     ]
    },
    "85b8345a04eb4fafaab937132a8b3712": {
     "views": [
      {
       "cell_index": 20
      }
     ]
    },
    "88744ef5287a47549ad28924ad33ff2c": {
     "views": [
      {
       "cell_index": 29
      }
     ]
    },
    "897ebf48783444adb74e65f94ef0fe17": {
     "views": [
      {
       "cell_index": 20
      }
     ]
    },
    "8d2be9b453944cdfbd86069d4fe42d4e": {
     "views": [
      {
       "cell_index": 20
      }
     ]
    },
    "92746e16c4634a8d98f381bbef4a9d1e": {
     "views": [
      {
       "cell_index": 29
      }
     ]
    },
    "92d2d06837544f7c8c94a8e5b8392c24": {
     "views": [
      {
       "cell_index": 29
      }
     ]
    },
    "9590df59c68f4293908d94c16f772875": {
     "views": [
      {
       "cell_index": 29
      }
     ]
    },
    "96bf3c1062a84b88b27fb11aa29f117b": {
     "views": [
      {
       "cell_index": 20
      }
     ]
    },
    "96c700f921784abeb15184d785813349": {
     "views": [
      {
       "cell_index": 29
      }
     ]
    },
    "a111508f98554bfe8a832fccddf4bb8f": {
     "views": [
      {
       "cell_index": 20
      }
     ]
    },
    "a143a7c7307e46b2bed54cb445e5cdad": {
     "views": [
      {
       "cell_index": 29
      }
     ]
    },
    "a42c465f98ab4b81b174e82f9693681a": {
     "views": [
      {
       "cell_index": 20
      }
     ]
    },
    "a6cacdd0a26749bebb257bfdf06e22d5": {
     "views": [
      {
       "cell_index": 20
      }
     ]
    },
    "a7a58004ba0d418f87ee9656516ce748": {
     "views": [
      {
       "cell_index": 29
      }
     ]
    },
    "a7c63c8356a345929aa63f8caae7d46f": {
     "views": [
      {
       "cell_index": 20
      }
     ]
    },
    "ad1c5f575fe74c479fd24213501d3548": {
     "views": [
      {
       "cell_index": 29
      }
     ]
    },
    "ae727a89c77e4516ac9893d6c76b7784": {
     "views": [
      {
       "cell_index": 20
      }
     ]
    },
    "b691fbc343e949e0badefab1475a0183": {
     "views": [
      {
       "cell_index": 29
      }
     ]
    },
    "b6ec3355079e4e3e999b1df7448b7117": {
     "views": [
      {
       "cell_index": 20
      }
     ]
    },
    "b917cf869a834877b96ae11946d0000c": {
     "views": [
      {
       "cell_index": 29
      }
     ]
    },
    "bb4dcb6fdac94d409783f8aedd399b4c": {
     "views": [
      {
       "cell_index": 20
      }
     ]
    },
    "bdf4600e9ea24cb881b1870499da52e2": {
     "views": [
      {
       "cell_index": 29
      }
     ]
    },
    "c09008fb963343d48677bd8d11597a8b": {
     "views": [
      {
       "cell_index": 20
      }
     ]
    },
    "c4c4b651241f4fa4977dc9e4de349ad8": {
     "views": [
      {
       "cell_index": 20
      }
     ]
    },
    "c681fdd66974461591d9cb6e8748dac3": {
     "views": [
      {
       "cell_index": 29
      }
     ]
    },
    "c9758fae91ef488b895958b65123f304": {
     "views": [
      {
       "cell_index": 20
      }
     ]
    },
    "cd4e08e0363744ebb0e78c622c2400e4": {
     "views": [
      {
       "cell_index": 29
      }
     ]
    },
    "d118b38403e64a8fb269df55c7571b68": {
     "views": [
      {
       "cell_index": 29
      }
     ]
    },
    "d257cdbe29e5460bb294929a808fd16c": {
     "views": [
      {
       "cell_index": 20
      }
     ]
    },
    "d2ac05c7bfe9482fbb68c460cee3167a": {
     "views": [
      {
       "cell_index": 20
      }
     ]
    },
    "d2ff02bc6229486d9cb01204cbca1cd9": {
     "views": [
      {
       "cell_index": 20
      }
     ]
    },
    "d4582b81b3564372aff5ba8aaa97b046": {
     "views": [
      {
       "cell_index": 29
      }
     ]
    },
    "d4658da19f3b4df28a1889e9bce3a28f": {
     "views": [
      {
       "cell_index": 20
      }
     ]
    },
    "d733659890ea4e598c80aaf382606226": {
     "views": [
      {
       "cell_index": 20
      }
     ]
    },
    "d73e260f99c6489a818a23ed82095cdb": {
     "views": [
      {
       "cell_index": 20
      }
     ]
    },
    "debefb6ccd49440280f4ee2ba6ca87cf": {
     "views": [
      {
       "cell_index": 20
      }
     ]
    },
    "e1d6a3b710984520ac0205b2e3c2edfc": {
     "views": [
      {
       "cell_index": 20
      }
     ]
    },
    "e1fba0d8372d4e0a9c71697120019ea9": {
     "views": [
      {
       "cell_index": 29
      }
     ]
    },
    "e2e451d3b6c244229949026995971ef2": {
     "views": [
      {
       "cell_index": 20
      }
     ]
    },
    "e540f9a2753f41c89dea3b4c9d2c5287": {
     "views": [
      {
       "cell_index": 29
      }
     ]
    },
    "e6167597446e4da0ade8408d1044801d": {
     "views": [
      {
       "cell_index": 20
      }
     ]
    },
    "e814069b1dfb4b9b830c56f8f5d5c0c8": {
     "views": [
      {
       "cell_index": 20
      }
     ]
    },
    "e81880d4d5b84e59852a05163a7547c4": {
     "views": [
      {
       "cell_index": 29
      }
     ]
    },
    "ea5b13533cfc4d83a68ff53087e2f99f": {
     "views": [
      {
       "cell_index": 20
      }
     ]
    },
    "f0140153680e435cba5077c91805a427": {
     "views": [
      {
       "cell_index": 29
      }
     ]
    },
    "f184b2a9c1a64f5fbea100f7393d2bdc": {
     "views": [
      {
       "cell_index": 20
      }
     ]
    },
    "f2a86b164ed845c8ba27b24ba790ae42": {
     "views": [
      {
       "cell_index": 29
      }
     ]
    },
    "f48538d4cf194f71a1e2c6607293f37c": {
     "views": [
      {
       "cell_index": 20
      }
     ]
    },
    "f5ba10442d35404e80bc3c83120e6eea": {
     "views": [
      {
       "cell_index": 29
      }
     ]
    },
    "f6d2e2966aea42529ed112f5b72b80ed": {
     "views": [
      {
       "cell_index": 20
      }
     ]
    },
    "f9b459e7a6e446f3bf008a642468060d": {
     "views": [
      {
       "cell_index": 20
      }
     ]
    },
    "fbbf9aa6ebff4599a8ba10dd4b2ba189": {
     "views": [
      {
       "cell_index": 20
      }
     ]
    },
    "fe7c6e49db2d4232bdc07f0609f9c1e5": {
     "views": [
      {
       "cell_index": 20
      }
     ]
    }
   },
   "version": "1.2.0"
  }
 },
 "nbformat": 4,
 "nbformat_minor": 2
}
