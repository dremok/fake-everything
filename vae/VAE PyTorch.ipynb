{
 "cells": [
  {
   "cell_type": "code",
   "execution_count": 10,
   "metadata": {},
   "outputs": [],
   "source": [
    "from __future__ import print_function\n",
    "import argparse\n",
    "import torch\n",
    "import torch.utils.data\n",
    "from torch import nn, optim\n",
    "from torch.nn import functional as F\n",
    "from torchvision import datasets, transforms\n",
    "from torchvision.utils import save_image\n",
    "import numpy as np"
   ]
  },
  {
   "cell_type": "code",
   "execution_count": 12,
   "metadata": {},
   "outputs": [
    {
     "name": "stdout",
     "output_type": "stream",
     "text": [
      "[1. 2.]\n",
      "tensor([1, 2])\n"
     ]
    }
   ],
   "source": [
    "print(torch.Tensor([1,2]).numpy())\n",
    "print(torch.from_numpy(np.array([1,2])))"
   ]
  },
  {
   "cell_type": "code",
   "execution_count": 37,
   "metadata": {},
   "outputs": [],
   "source": [
    "batch_size = 128\n",
    "epochs = 2\n",
    "log_interval = 10"
   ]
  },
  {
   "cell_type": "code",
   "execution_count": 38,
   "metadata": {},
   "outputs": [],
   "source": [
    "torch.manual_seed(42)\n",
    "device = torch.device(\"cuda\" if torch.cuda.is_available() else \"cpu\")"
   ]
  },
  {
   "cell_type": "code",
   "execution_count": 39,
   "metadata": {},
   "outputs": [],
   "source": [
    "train_loader = torch.utils.data.DataLoader(\n",
    "    datasets.MNIST('../data', train=True, download=True,\n",
    "                   transform=transforms.ToTensor()),\n",
    "    batch_size=batch_size, shuffle=True)\n",
    "test_loader = torch.utils.data.DataLoader(\n",
    "    datasets.MNIST('../data', train=False, transform=transforms.ToTensor()),\n",
    "    batch_size=batch_size, shuffle=True)"
   ]
  },
  {
   "cell_type": "code",
   "execution_count": 40,
   "metadata": {},
   "outputs": [],
   "source": [
    "class VAE(nn.Module):\n",
    "    def __init__(self):\n",
    "        super(VAE, self).__init__()\n",
    "\n",
    "        self.fc1 = nn.Linear(784, 400)\n",
    "        self.fc21 = nn.Linear(400, 20)\n",
    "        self.fc22 = nn.Linear(400, 20)\n",
    "        self.fc3 = nn.Linear(20, 400)\n",
    "        self.fc4 = nn.Linear(400, 784)\n",
    "\n",
    "    def encode(self, x):\n",
    "        h1 = F.relu(self.fc1(x))\n",
    "        return self.fc21(h1), self.fc22(h1)\n",
    "\n",
    "    def reparameterize(self, mu, logvar):\n",
    "        std = torch.exp(0.5*logvar)\n",
    "        eps = torch.randn_like(std)\n",
    "        return mu + eps*std\n",
    "\n",
    "    def decode(self, z):\n",
    "        h3 = F.relu(self.fc3(z))\n",
    "        return torch.sigmoid(self.fc4(h3))\n",
    "\n",
    "    def forward(self, x):\n",
    "        mu, logvar = self.encode(x.view(-1, 784))\n",
    "        z = self.reparameterize(mu, logvar)\n",
    "        return self.decode(z), mu, logvar"
   ]
  },
  {
   "cell_type": "code",
   "execution_count": 41,
   "metadata": {},
   "outputs": [],
   "source": [
    "model = VAE().to(device)\n",
    "optimizer = optim.Adam(model.parameters(), lr=1e-3)"
   ]
  },
  {
   "cell_type": "code",
   "execution_count": 42,
   "metadata": {},
   "outputs": [],
   "source": [
    "# Reconstruction + KL divergence losses summed over all elements and batch\n",
    "def loss_function(recon_x, x, mu, logvar):\n",
    "    BCE = F.binary_cross_entropy(recon_x, x.view(-1, 784), reduction='sum')\n",
    "\n",
    "    # see Appendix B from VAE paper:\n",
    "    # Kingma and Welling. Auto-Encoding Variational Bayes. ICLR, 2014\n",
    "    # https://arxiv.org/abs/1312.6114\n",
    "    # 0.5 * sum(1 + log(sigma^2) - mu^2 - sigma^2)\n",
    "    KLD = -0.5 * torch.sum(1 + logvar - mu.pow(2) - logvar.exp())\n",
    "\n",
    "    return BCE + KLD"
   ]
  },
  {
   "cell_type": "code",
   "execution_count": 43,
   "metadata": {},
   "outputs": [],
   "source": [
    "def train(epoch):\n",
    "    model.train()\n",
    "    train_loss = 0\n",
    "    for batch_idx, (data, _) in enumerate(train_loader):\n",
    "        data = data.to(device)\n",
    "        optimizer.zero_grad()\n",
    "        recon_batch, mu, logvar = model(data)\n",
    "        loss = loss_function(recon_batch, data, mu, logvar)\n",
    "        loss.backward()\n",
    "        train_loss += loss.item()\n",
    "        optimizer.step()\n",
    "        if batch_idx % log_interval == 0:\n",
    "            print('Train Epoch: {} [{}/{} ({:.0f}%)]\\tLoss: {:.6f}'.format(\n",
    "                epoch, batch_idx * len(data), len(train_loader.dataset),\n",
    "                100. * batch_idx / len(train_loader),\n",
    "                loss.item() / len(data)))\n",
    "\n",
    "    print('====> Epoch: {} Average loss: {:.4f}'.format(\n",
    "          epoch, train_loss / len(train_loader.dataset)))"
   ]
  },
  {
   "cell_type": "code",
   "execution_count": 52,
   "metadata": {},
   "outputs": [],
   "source": [
    "import os\n",
    "def test(epoch):\n",
    "    model.eval()\n",
    "    test_loss = 0\n",
    "    with torch.no_grad():\n",
    "        for i, (data, _) in enumerate(test_loader):\n",
    "            data = data.to(device)\n",
    "            recon_batch, mu, logvar = model(data)\n",
    "            test_loss += loss_function(recon_batch, data, mu, logvar).item()\n",
    "            if i == 0:\n",
    "                n = min(data.size(0), 8)\n",
    "                comparison = torch.cat([data[:n],\n",
    "                                      recon_batch.view(batch_size, 1, 28, 28)[:n]])\n",
    "                os.makedirs('results', exist_ok=True)\n",
    "                save_image(comparison.cpu(),\n",
    "                         'results/reconstruction_' + str(epoch) + '.png', nrow=n)\n",
    "    test_loss /= len(test_loader.dataset)\n",
    "    print('====> Test set loss: {:.4f}'.format(test_loss))"
   ]
  },
  {
   "cell_type": "code",
   "execution_count": 53,
   "metadata": {},
   "outputs": [
    {
     "name": "stdout",
     "output_type": "stream",
     "text": [
      "Train Epoch: 1 [0/60000 (0%)]\tLoss: 107.172386\n",
      "Train Epoch: 1 [1280/60000 (2%)]\tLoss: 110.001114\n",
      "Train Epoch: 1 [2560/60000 (4%)]\tLoss: 112.469574\n",
      "Train Epoch: 1 [3840/60000 (6%)]\tLoss: 107.934608\n",
      "Train Epoch: 1 [5120/60000 (9%)]\tLoss: 107.480560\n",
      "Train Epoch: 1 [6400/60000 (11%)]\tLoss: 113.295769\n",
      "Train Epoch: 1 [7680/60000 (13%)]\tLoss: 108.295959\n",
      "Train Epoch: 1 [8960/60000 (15%)]\tLoss: 106.584732\n",
      "Train Epoch: 1 [10240/60000 (17%)]\tLoss: 112.901749\n",
      "Train Epoch: 1 [11520/60000 (19%)]\tLoss: 111.499054\n",
      "Train Epoch: 1 [12800/60000 (21%)]\tLoss: 110.015739\n",
      "Train Epoch: 1 [14080/60000 (23%)]\tLoss: 107.822250\n",
      "Train Epoch: 1 [15360/60000 (26%)]\tLoss: 105.745049\n",
      "Train Epoch: 1 [16640/60000 (28%)]\tLoss: 107.803665\n",
      "Train Epoch: 1 [17920/60000 (30%)]\tLoss: 114.309380\n",
      "Train Epoch: 1 [19200/60000 (32%)]\tLoss: 110.205338\n",
      "Train Epoch: 1 [20480/60000 (34%)]\tLoss: 107.315460\n",
      "Train Epoch: 1 [21760/60000 (36%)]\tLoss: 111.748756\n",
      "Train Epoch: 1 [23040/60000 (38%)]\tLoss: 106.070572\n",
      "Train Epoch: 1 [24320/60000 (41%)]\tLoss: 106.974586\n",
      "Train Epoch: 1 [25600/60000 (43%)]\tLoss: 110.936821\n",
      "Train Epoch: 1 [26880/60000 (45%)]\tLoss: 110.955475\n",
      "Train Epoch: 1 [28160/60000 (47%)]\tLoss: 109.431564\n",
      "Train Epoch: 1 [29440/60000 (49%)]\tLoss: 106.596344\n",
      "Train Epoch: 1 [30720/60000 (51%)]\tLoss: 111.455521\n",
      "Train Epoch: 1 [32000/60000 (53%)]\tLoss: 108.303108\n",
      "Train Epoch: 1 [33280/60000 (55%)]\tLoss: 111.261482\n",
      "Train Epoch: 1 [34560/60000 (58%)]\tLoss: 106.730202\n",
      "Train Epoch: 1 [35840/60000 (60%)]\tLoss: 105.109154\n",
      "Train Epoch: 1 [37120/60000 (62%)]\tLoss: 108.495132\n",
      "Train Epoch: 1 [38400/60000 (64%)]\tLoss: 107.643616\n",
      "Train Epoch: 1 [39680/60000 (66%)]\tLoss: 107.900368\n",
      "Train Epoch: 1 [40960/60000 (68%)]\tLoss: 107.538307\n",
      "Train Epoch: 1 [42240/60000 (70%)]\tLoss: 108.510109\n",
      "Train Epoch: 1 [43520/60000 (72%)]\tLoss: 105.720078\n",
      "Train Epoch: 1 [44800/60000 (75%)]\tLoss: 110.392487\n",
      "Train Epoch: 1 [46080/60000 (77%)]\tLoss: 109.895546\n",
      "Train Epoch: 1 [47360/60000 (79%)]\tLoss: 109.397369\n",
      "Train Epoch: 1 [48640/60000 (81%)]\tLoss: 105.553680\n",
      "Train Epoch: 1 [49920/60000 (83%)]\tLoss: 109.861099\n",
      "Train Epoch: 1 [51200/60000 (85%)]\tLoss: 112.255142\n",
      "Train Epoch: 1 [52480/60000 (87%)]\tLoss: 108.089043\n",
      "Train Epoch: 1 [53760/60000 (90%)]\tLoss: 105.946022\n",
      "Train Epoch: 1 [55040/60000 (92%)]\tLoss: 109.318535\n",
      "Train Epoch: 1 [56320/60000 (94%)]\tLoss: 108.747917\n",
      "Train Epoch: 1 [57600/60000 (96%)]\tLoss: 108.773911\n",
      "Train Epoch: 1 [58880/60000 (98%)]\tLoss: 108.274490\n",
      "====> Epoch: 1 Average loss: 108.8020\n",
      "====> Test set loss: 107.7176\n",
      "Train Epoch: 2 [0/60000 (0%)]\tLoss: 106.393715\n",
      "Train Epoch: 2 [1280/60000 (2%)]\tLoss: 104.682983\n",
      "Train Epoch: 2 [2560/60000 (4%)]\tLoss: 111.119431\n",
      "Train Epoch: 2 [3840/60000 (6%)]\tLoss: 110.313446\n",
      "Train Epoch: 2 [5120/60000 (9%)]\tLoss: 107.351524\n",
      "Train Epoch: 2 [6400/60000 (11%)]\tLoss: 108.125069\n",
      "Train Epoch: 2 [7680/60000 (13%)]\tLoss: 106.524475\n",
      "Train Epoch: 2 [8960/60000 (15%)]\tLoss: 108.250740\n",
      "Train Epoch: 2 [10240/60000 (17%)]\tLoss: 109.840591\n",
      "Train Epoch: 2 [11520/60000 (19%)]\tLoss: 107.853012\n",
      "Train Epoch: 2 [12800/60000 (21%)]\tLoss: 102.384743\n",
      "Train Epoch: 2 [14080/60000 (23%)]\tLoss: 107.567841\n",
      "Train Epoch: 2 [15360/60000 (26%)]\tLoss: 110.363434\n",
      "Train Epoch: 2 [16640/60000 (28%)]\tLoss: 113.087181\n",
      "Train Epoch: 2 [17920/60000 (30%)]\tLoss: 109.253860\n",
      "Train Epoch: 2 [19200/60000 (32%)]\tLoss: 105.255203\n",
      "Train Epoch: 2 [20480/60000 (34%)]\tLoss: 102.244766\n",
      "Train Epoch: 2 [21760/60000 (36%)]\tLoss: 108.075172\n",
      "Train Epoch: 2 [23040/60000 (38%)]\tLoss: 106.926025\n",
      "Train Epoch: 2 [24320/60000 (41%)]\tLoss: 104.870438\n",
      "Train Epoch: 2 [25600/60000 (43%)]\tLoss: 105.618317\n",
      "Train Epoch: 2 [26880/60000 (45%)]\tLoss: 109.517128\n",
      "Train Epoch: 2 [28160/60000 (47%)]\tLoss: 108.108253\n",
      "Train Epoch: 2 [29440/60000 (49%)]\tLoss: 107.980385\n",
      "Train Epoch: 2 [30720/60000 (51%)]\tLoss: 111.896118\n",
      "Train Epoch: 2 [32000/60000 (53%)]\tLoss: 108.443130\n",
      "Train Epoch: 2 [33280/60000 (55%)]\tLoss: 108.108215\n",
      "Train Epoch: 2 [34560/60000 (58%)]\tLoss: 108.158745\n",
      "Train Epoch: 2 [35840/60000 (60%)]\tLoss: 108.682953\n",
      "Train Epoch: 2 [37120/60000 (62%)]\tLoss: 111.780136\n",
      "Train Epoch: 2 [38400/60000 (64%)]\tLoss: 110.349983\n",
      "Train Epoch: 2 [39680/60000 (66%)]\tLoss: 105.481705\n",
      "Train Epoch: 2 [40960/60000 (68%)]\tLoss: 108.580978\n",
      "Train Epoch: 2 [42240/60000 (70%)]\tLoss: 108.101540\n",
      "Train Epoch: 2 [43520/60000 (72%)]\tLoss: 106.473145\n",
      "Train Epoch: 2 [44800/60000 (75%)]\tLoss: 104.621521\n",
      "Train Epoch: 2 [46080/60000 (77%)]\tLoss: 107.068054\n",
      "Train Epoch: 2 [47360/60000 (79%)]\tLoss: 106.140747\n",
      "Train Epoch: 2 [48640/60000 (81%)]\tLoss: 107.496490\n",
      "Train Epoch: 2 [49920/60000 (83%)]\tLoss: 107.075478\n",
      "Train Epoch: 2 [51200/60000 (85%)]\tLoss: 105.308289\n",
      "Train Epoch: 2 [52480/60000 (87%)]\tLoss: 105.860367\n",
      "Train Epoch: 2 [53760/60000 (90%)]\tLoss: 111.284973\n",
      "Train Epoch: 2 [55040/60000 (92%)]\tLoss: 106.860741\n",
      "Train Epoch: 2 [56320/60000 (94%)]\tLoss: 107.105125\n",
      "Train Epoch: 2 [57600/60000 (96%)]\tLoss: 105.430199\n",
      "Train Epoch: 2 [58880/60000 (98%)]\tLoss: 110.378159\n",
      "====> Epoch: 2 Average loss: 107.9527\n",
      "====> Test set loss: 107.0299\n"
     ]
    }
   ],
   "source": [
    "if __name__ == \"__main__\":\n",
    "    for epoch in range(1, epochs + 1):\n",
    "        train(epoch)\n",
    "        test(epoch)\n",
    "        with torch.no_grad():\n",
    "            sample = torch.randn(64, 20).to(device)\n",
    "            sample = model.decode(sample).cpu()\n",
    "            save_image(sample.view(64, 1, 28, 28),\n",
    "                       'results/sample_' + str(epoch) + '.png')"
   ]
  }
 ],
 "metadata": {
  "kernelspec": {
   "display_name": "fake-everything",
   "language": "python",
   "name": "fake-everything"
  },
  "language_info": {
   "codemirror_mode": {
    "name": "ipython",
    "version": 3
   },
   "file_extension": ".py",
   "mimetype": "text/x-python",
   "name": "python",
   "nbconvert_exporter": "python",
   "pygments_lexer": "ipython3",
   "version": "3.7.1"
  }
 },
 "nbformat": 4,
 "nbformat_minor": 2
}
